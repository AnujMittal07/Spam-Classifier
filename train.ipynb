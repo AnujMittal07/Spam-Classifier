{
 "cells": [
  {
   "cell_type": "code",
   "execution_count": null,
   "metadata": {},
   "outputs": [],
   "source": [
    "import pandas as pd\n",
    "import matplotlib.pyplot as plt\n",
    "from wordcloud import WordCloud"
   ]
  },
  {
   "cell_type": "code",
   "execution_count": null,
   "metadata": {},
   "outputs": [],
   "source": [
    "df = pd.read_csv(\"../inputs/spam_data.csv\",encoding='ISO-8859-1')"
   ]
  },
  {
   "cell_type": "code",
   "execution_count": null,
   "metadata": {},
   "outputs": [],
   "source": [
    "df.head()"
   ]
  },
  {
   "cell_type": "code",
   "execution_count": null,
   "metadata": {},
   "outputs": [],
   "source": [
    "df.shape"
   ]
  },
  {
   "cell_type": "code",
   "execution_count": null,
   "metadata": {},
   "outputs": [],
   "source": [
    "df = df[['v1','v2']]"
   ]
  },
  {
   "cell_type": "code",
   "execution_count": null,
   "metadata": {},
   "outputs": [],
   "source": [
    "df.head()"
   ]
  },
  {
   "cell_type": "code",
   "execution_count": null,
   "metadata": {},
   "outputs": [],
   "source": [
    "df['v1'].value_counts()"
   ]
  },
  {
   "cell_type": "code",
   "execution_count": null,
   "metadata": {},
   "outputs": [],
   "source": [
    "df.isna().sum()"
   ]
  },
  {
   "cell_type": "code",
   "execution_count": null,
   "metadata": {},
   "outputs": [],
   "source": [
    "df['v1'] = df['v1'].apply(lambda x: 1 if x=='spam' else 0)"
   ]
  },
  {
   "cell_type": "code",
   "execution_count": null,
   "metadata": {},
   "outputs": [],
   "source": [
    "df['v1'].value_counts().plot(kind='bar')"
   ]
  },
  {
   "cell_type": "code",
   "execution_count": null,
   "metadata": {},
   "outputs": [],
   "source": [
    "spam_words = ' '.join(list(df[df['v1']==1]['v2']))\n",
    "spam_wc = WordCloud(width=500,height=500).generate(spam_words)\n",
    "plt.figure(figsize=(10,10))\n",
    "plt.imshow(spam_wc)\n",
    "plt.show()"
   ]
  },
  {
   "cell_type": "code",
   "execution_count": null,
   "metadata": {},
   "outputs": [],
   "source": [
    "not_spam_words = ' '.join(list(df[df['v1']==0]['v2']))\n",
    "spam_wc = WordCloud(width=500,height=500).generate(not_spam_words)\n",
    "plt.figure(figsize=(10,10))\n",
    "plt.imshow(spam_wc)\n",
    "plt.show()"
   ]
  },
  {
   "cell_type": "code",
   "execution_count": null,
   "metadata": {},
   "outputs": [],
   "source": []
  },
  {
   "cell_type": "markdown",
   "metadata": {},
   "source": [
    "## NO UPSAMPLING OR DOWNSAMPLING, PREPROCESSING + BOW + NB + CV (GRID, RANDOM, BAYESIAN OPTIMISATION) "
   ]
  },
  {
   "cell_type": "code",
   "execution_count": null,
   "metadata": {},
   "outputs": [],
   "source": [
    "import pandas as pd\n",
    "import re\n",
    "import string\n",
    "import time\n",
    "\n",
    "from nltk.tokenize import word_tokenize\n",
    "from nltk.corpus import stopwords\n",
    "from nltk.stem.snowball import SnowballStemmer\n",
    "\n",
    "from sklearn.feature_extraction.text import CountVectorizer\n",
    "from sklearn.model_selection import StratifiedKFold\n",
    "from sklearn import metrics\n",
    "from sklearn import naive_bayes\n",
    "from sklearn.model_selection import GridSearchCV"
   ]
  },
  {
   "cell_type": "code",
   "execution_count": null,
   "metadata": {},
   "outputs": [],
   "source": [
    "df = pd.read_csv(\"../inputs/spam_data.csv\",encoding='ISO-8859-1')\n",
    "df = df[['v1','v2']]\n",
    "df['v1'] = df['v1'].apply(lambda x: 1 if x=='spam' else 0)\n",
    "df.columns = ['label','document']"
   ]
  },
  {
   "cell_type": "code",
   "execution_count": null,
   "metadata": {},
   "outputs": [],
   "source": [
    "df = df.sample(frac=1).reset_index(drop=True)\n",
    "df_train = df.loc[:4500,:].reset_index(drop=True)\n",
    "df_test = df.loc[4500:,:].reset_index(drop=True)"
   ]
  },
  {
   "cell_type": "markdown",
   "metadata": {},
   "source": [
    "PREPROCESSING STEPS:<BR> 1) REMOVE ANYTHING THAT IS NOT A-Z AND 0-9<BR>\n",
    "                     2) LOWER CASE<BR>\n",
    "                     3) STOP WORDS REMOVAL<BR>\n",
    "                     4) STEMMING"
   ]
  },
  {
   "cell_type": "code",
   "execution_count": null,
   "metadata": {},
   "outputs": [],
   "source": [
    "stop = list(stopwords.words('english'))\n",
    "stemmer = SnowballStemmer('english')\n",
    "\n",
    "def clean_text(sentence):\n",
    "    final_string = ''\n",
    "    sentence = re.sub(f'[{re.escape(string.punctuation)}]','',' '.join(word_tokenize(sentence))).lower()\n",
    "    sentence = ' '.join(word_tokenize(sentence))\n",
    "    for word in sentence.split():\n",
    "        word = stemmer.stem(word)\n",
    "        if word not in stop:\n",
    "            final_string = final_string + word +' '\n",
    "    return final_string.rstrip().lstrip()"
   ]
  },
  {
   "cell_type": "code",
   "execution_count": null,
   "metadata": {},
   "outputs": [],
   "source": [
    "df_train['document'] = df_train['document'].apply(lambda x: clean_text(x))"
   ]
  },
  {
   "cell_type": "code",
   "execution_count": null,
   "metadata": {},
   "outputs": [],
   "source": [
    "df_train['kfold'] = -1\n",
    "kf = StratifiedKFold(n_splits=5)\n",
    "for fold_,(t_,v_) in enumerate(kf.split(X=df_train,y=df_train['label'])):\n",
    "    df_train.loc[v_,'kfold'] = fold_"
   ]
  },
  {
   "cell_type": "code",
   "execution_count": null,
   "metadata": {},
   "outputs": [],
   "source": [
    "for fold in range(5):\n",
    "    train = df_train[df_train['kfold']!=fold].reset_index(drop=True)\n",
    "    valid = df_train[df_train['kfold']==fold].reset_index(drop=True)\n",
    "    \n",
    "    bow = CountVectorizer(binary=True)\n",
    "    bow.fit(train['document'])\n",
    "    \n",
    "    x_train = bow.transform(train['document'])\n",
    "    y_train = train['label']\n",
    "    \n",
    "    x_valid = bow.transform(valid['document'])\n",
    "    \n",
    "    NB = naive_bayes.MultinomialNB()\n",
    "    NB.fit(x_train,y_train)\n",
    "    \n",
    "    preds = NB.predict(x_valid)\n",
    "    \n",
    "    auc = metrics.roc_auc_score(valid['label'],preds)\n",
    "    \n",
    "    print(f'For fold = {fold}, AUC = {auc}')\n",
    "    "
   ]
  },
  {
   "cell_type": "code",
   "execution_count": null,
   "metadata": {},
   "outputs": [],
   "source": [
    "bow = CountVectorizer(binary=True)\n",
    "bow.fit(df_train['document'])\n",
    "x_train = bow.transform(df_train['document'])\n",
    "y_train = df_train['label']\n",
    "\n",
    "df_test['document'] = df_test['document'].apply(lambda x: clean_text(x))\n",
    "\n",
    "x_test = bow.transform(df_test['document'])\n",
    "y_test = df_test['label']\n",
    "\n",
    "NB = naive_bayes.MultinomialNB()\n",
    "NB.fit(x_train,y_train)\n",
    "\n",
    "preds = NB.predict(x_test)\n",
    "\n",
    "auc = metrics.roc_auc_score(y_test,preds)\n",
    "\n",
    "print(f'AUC = {auc}')\n"
   ]
  },
  {
   "cell_type": "code",
   "execution_count": null,
   "metadata": {},
   "outputs": [],
   "source": [
    "# GRID SEARCH\n",
    "X = df_train['document']\n",
    "X = X.apply(clean_text)\n",
    "bow = CountVectorizer(binary=True)\n",
    "bow.fit(X)\n",
    "X = bow.transform(X)\n",
    "y = df_train['label']\n",
    "\n",
    "classifier = naive_bayes.MultinomialNB()\n",
    "param_grid = {'alpha':[0.0001,0.001,0.01,0.1,1,10,100,1000]}\n",
    "model = GridSearchCV(estimator = classifier, param_grid=param_grid,verbose=10,scoring='roc_auc',cv=5)\n",
    "model.fit(X,y)"
   ]
  },
  {
   "cell_type": "code",
   "execution_count": null,
   "metadata": {},
   "outputs": [],
   "source": [
    "model.best_params_"
   ]
  },
  {
   "cell_type": "code",
   "execution_count": null,
   "metadata": {},
   "outputs": [],
   "source": [
    "X_test = df_test['document']\n",
    "X_test = X_test.apply(clean_text)\n",
    "X_test = bow.transform(X_test)\n",
    "y_test = df_test['label']\n",
    "\n",
    "NB = naive_bayes.MultinomialNB(alpha=0.1)\n",
    "NB.fit(X,y)\n",
    "\n",
    "preds = NB.predict(X_test)\n",
    "\n",
    "print(metrics.roc_auc_score(y_test,preds))\n",
    "print(metrics.precision_score(y_test,preds))"
   ]
  },
  {
   "cell_type": "code",
   "execution_count": null,
   "metadata": {},
   "outputs": [],
   "source": [
    "preds = NB.predict(X)\n",
    "\n",
    "print(metrics.roc_auc_score(y,preds))\n",
    "print(metrics.precision_score(y,preds))"
   ]
  },
  {
   "cell_type": "code",
   "execution_count": null,
   "metadata": {},
   "outputs": [],
   "source": [
    "X_test = df_test['document']\n",
    "X_test = X_test.apply(clean_text)\n",
    "X_test = bow.transform(X_test)\n",
    "y_test = df_test['label']\n",
    "\n",
    "train_auc = []\n",
    "test_auc = []\n",
    "for alpha in [0.0001,0.001,0.01,0.1,1,10,100,1000]:\n",
    "    NB = naive_bayes.MultinomialNB(alpha=alpha)\n",
    "    NB.fit(X,y)\n",
    "\n",
    "    preds_test = NB.predict(X_test)\n",
    "    preds_train = NB.predict(X)\n",
    "    auc_test = metrics.roc_auc_score(y_test,preds_test)\n",
    "    auc_train = metrics.roc_auc_score(y,preds_train)\n",
    "    \n",
    "    train_auc.append(auc_train)\n",
    "    test_auc.append(auc_test)\n",
    "    #print('ALPHA: '+ str(alpha) + ' TRAINING AUC: '+ str(round(auc_train,2))+' TEST AUC: '+ str(round(auc_test,2)))\n"
   ]
  },
  {
   "cell_type": "code",
   "execution_count": null,
   "metadata": {},
   "outputs": [],
   "source": [
    "alpha = [0.0001,0.001,0.01,0.1,1,10,100,1000]"
   ]
  },
  {
   "cell_type": "code",
   "execution_count": null,
   "metadata": {},
   "outputs": [],
   "source": [
    "import seaborn as sns\n",
    "import matplotlib.pyplot as plt\n",
    "%matplotlib inline"
   ]
  },
  {
   "cell_type": "code",
   "execution_count": null,
   "metadata": {},
   "outputs": [],
   "source": [
    "temp_df = pd.DataFrame({'alpha':alpha,'train_auc':train_auc,'test_auc':test_auc})"
   ]
  },
  {
   "cell_type": "code",
   "execution_count": null,
   "metadata": {},
   "outputs": [],
   "source": [
    "fig,ax = plt.subplots(figsize=(7,7))\n",
    "temp_df.plot(x = 'alpha',y='train_auc',ax=ax)\n",
    "temp_df.plot(x = 'alpha',y='test_auc',ax=ax)\n",
    "#plt.xlim(0,1)"
   ]
  },
  {
   "cell_type": "code",
   "execution_count": null,
   "metadata": {},
   "outputs": [],
   "source": [
    "bow.vocabulary_"
   ]
  },
  {
   "cell_type": "code",
   "execution_count": null,
   "metadata": {},
   "outputs": [],
   "source": []
  },
  {
   "cell_type": "markdown",
   "metadata": {},
   "source": [
    "## THIS TIME WE WILL OVERSAMPLE THE DATA "
   ]
  },
  {
   "cell_type": "code",
   "execution_count": 1,
   "metadata": {},
   "outputs": [],
   "source": [
    "import warnings\n",
    "warnings.filterwarnings('ignore')\n",
    "\n",
    "import pandas as pd\n",
    "import re\n",
    "import string\n",
    "\n",
    "from nltk.tokenize import word_tokenize\n",
    "from nltk.stem import SnowballStemmer\n",
    "from nltk.corpus import stopwords\n",
    "\n",
    "from sklearn import metrics\n",
    "from sklearn import naive_bayes\n",
    "from sklearn.feature_extraction.text import CountVectorizer\n",
    "from sklearn.model_selection import StratifiedKFold\n",
    "from sklearn.model_selection import GridSearchCV"
   ]
  },
  {
   "cell_type": "code",
   "execution_count": 2,
   "metadata": {},
   "outputs": [],
   "source": [
    "df = pd.read_csv(\"../inputs/spam_data.csv\",encoding='ISO-8859-1')\n",
    "df = df[['v1','v2']]\n",
    "df['v1'] = df['v1'].apply(lambda x: 1 if x=='spam' else 0)\n",
    "df.columns = ['label','document']"
   ]
  },
  {
   "cell_type": "code",
   "execution_count": 3,
   "metadata": {},
   "outputs": [
    {
     "data": {
      "text/plain": [
       "(5572, 2)"
      ]
     },
     "execution_count": 3,
     "metadata": {},
     "output_type": "execute_result"
    }
   ],
   "source": [
    "df.shape"
   ]
  },
  {
   "cell_type": "code",
   "execution_count": 4,
   "metadata": {},
   "outputs": [
    {
     "data": {
      "text/html": [
       "<div>\n",
       "<style scoped>\n",
       "    .dataframe tbody tr th:only-of-type {\n",
       "        vertical-align: middle;\n",
       "    }\n",
       "\n",
       "    .dataframe tbody tr th {\n",
       "        vertical-align: top;\n",
       "    }\n",
       "\n",
       "    .dataframe thead th {\n",
       "        text-align: right;\n",
       "    }\n",
       "</style>\n",
       "<table border=\"1\" class=\"dataframe\">\n",
       "  <thead>\n",
       "    <tr style=\"text-align: right;\">\n",
       "      <th></th>\n",
       "      <th>label</th>\n",
       "      <th>document</th>\n",
       "    </tr>\n",
       "  </thead>\n",
       "  <tbody>\n",
       "    <tr>\n",
       "      <th>0</th>\n",
       "      <td>0</td>\n",
       "      <td>Go until jurong point, crazy.. Available only ...</td>\n",
       "    </tr>\n",
       "    <tr>\n",
       "      <th>1</th>\n",
       "      <td>0</td>\n",
       "      <td>Ok lar... Joking wif u oni...</td>\n",
       "    </tr>\n",
       "    <tr>\n",
       "      <th>2</th>\n",
       "      <td>1</td>\n",
       "      <td>Free entry in 2 a wkly comp to win FA Cup fina...</td>\n",
       "    </tr>\n",
       "    <tr>\n",
       "      <th>3</th>\n",
       "      <td>0</td>\n",
       "      <td>U dun say so early hor... U c already then say...</td>\n",
       "    </tr>\n",
       "    <tr>\n",
       "      <th>4</th>\n",
       "      <td>0</td>\n",
       "      <td>Nah I don't think he goes to usf, he lives aro...</td>\n",
       "    </tr>\n",
       "  </tbody>\n",
       "</table>\n",
       "</div>"
      ],
      "text/plain": [
       "   label                                           document\n",
       "0      0  Go until jurong point, crazy.. Available only ...\n",
       "1      0                      Ok lar... Joking wif u oni...\n",
       "2      1  Free entry in 2 a wkly comp to win FA Cup fina...\n",
       "3      0  U dun say so early hor... U c already then say...\n",
       "4      0  Nah I don't think he goes to usf, he lives aro..."
      ]
     },
     "execution_count": 4,
     "metadata": {},
     "output_type": "execute_result"
    }
   ],
   "source": [
    "df.head()"
   ]
  },
  {
   "cell_type": "code",
   "execution_count": 5,
   "metadata": {},
   "outputs": [],
   "source": [
    "df = df.sample(frac=1).reset_index(drop=True)\n",
    "df_train = df.loc[:4500,:].reset_index(drop=True)\n",
    "df_test = df.loc[4500:,:].reset_index(drop=True)"
   ]
  },
  {
   "cell_type": "code",
   "execution_count": 6,
   "metadata": {},
   "outputs": [
    {
     "data": {
      "text/plain": [
       "0    0.862253\n",
       "1    0.137747\n",
       "Name: label, dtype: float64"
      ]
     },
     "execution_count": 6,
     "metadata": {},
     "output_type": "execute_result"
    }
   ],
   "source": [
    "df_train['label'].value_counts(normalize=True)"
   ]
  },
  {
   "cell_type": "code",
   "execution_count": 7,
   "metadata": {},
   "outputs": [],
   "source": [
    "df_train_spam = df_train[df_train['label']==1]"
   ]
  },
  {
   "cell_type": "code",
   "execution_count": 8,
   "metadata": {},
   "outputs": [
    {
     "data": {
      "text/plain": [
       "(620, 2)"
      ]
     },
     "execution_count": 8,
     "metadata": {},
     "output_type": "execute_result"
    }
   ],
   "source": [
    "df_train_spam.shape"
   ]
  },
  {
   "cell_type": "code",
   "execution_count": 9,
   "metadata": {},
   "outputs": [],
   "source": [
    "df_train_not_spam = df_train[df_train['label']!=1]"
   ]
  },
  {
   "cell_type": "code",
   "execution_count": 10,
   "metadata": {},
   "outputs": [
    {
     "data": {
      "text/plain": [
       "(3881, 2)"
      ]
     },
     "execution_count": 10,
     "metadata": {},
     "output_type": "execute_result"
    }
   ],
   "source": [
    "df_train_not_spam.shape"
   ]
  },
  {
   "cell_type": "code",
   "execution_count": 11,
   "metadata": {},
   "outputs": [],
   "source": [
    "df_train_spam = df_train_spam.sample(df_train_not_spam.shape[0],replace=True) "
   ]
  },
  {
   "cell_type": "code",
   "execution_count": 12,
   "metadata": {},
   "outputs": [
    {
     "data": {
      "text/plain": [
       "(3881, 2)"
      ]
     },
     "execution_count": 12,
     "metadata": {},
     "output_type": "execute_result"
    }
   ],
   "source": [
    "df_train_spam.shape"
   ]
  },
  {
   "cell_type": "code",
   "execution_count": 13,
   "metadata": {},
   "outputs": [],
   "source": [
    "df_train = pd.concat([df_train_spam,df_train_not_spam]).reset_index(drop=True)"
   ]
  },
  {
   "cell_type": "code",
   "execution_count": 14,
   "metadata": {},
   "outputs": [],
   "source": [
    "df_train = df_train.sample(frac=1).reset_index(drop=True)"
   ]
  },
  {
   "cell_type": "code",
   "execution_count": 15,
   "metadata": {},
   "outputs": [],
   "source": [
    "stop = list(stopwords.words('english'))\n",
    "stemmer = SnowballStemmer('english')\n",
    "\n",
    "def clean_text(sentence):\n",
    "    final_string = ''\n",
    "    sentence = re.sub(f'[{re.escape(string.punctuation)}]','',' '.join(word_tokenize(sentence))).lower()\n",
    "    sentence = ' '.join(word_tokenize(sentence))\n",
    "    for word in sentence.split():\n",
    "        word = stemmer.stem(word)\n",
    "        if word not in stop:\n",
    "            final_string = final_string + word +' '\n",
    "    return final_string.rstrip().lstrip()"
   ]
  },
  {
   "cell_type": "code",
   "execution_count": 16,
   "metadata": {},
   "outputs": [],
   "source": [
    "df_train['document'] = df_train['document'].apply(clean_text)"
   ]
  },
  {
   "cell_type": "code",
   "execution_count": 17,
   "metadata": {},
   "outputs": [
    {
     "data": {
      "text/html": [
       "<div>\n",
       "<style scoped>\n",
       "    .dataframe tbody tr th:only-of-type {\n",
       "        vertical-align: middle;\n",
       "    }\n",
       "\n",
       "    .dataframe tbody tr th {\n",
       "        vertical-align: top;\n",
       "    }\n",
       "\n",
       "    .dataframe thead th {\n",
       "        text-align: right;\n",
       "    }\n",
       "</style>\n",
       "<table border=\"1\" class=\"dataframe\">\n",
       "  <thead>\n",
       "    <tr style=\"text-align: right;\">\n",
       "      <th></th>\n",
       "      <th>label</th>\n",
       "      <th>document</th>\n",
       "    </tr>\n",
       "  </thead>\n",
       "  <tbody>\n",
       "    <tr>\n",
       "      <th>0</th>\n",
       "      <td>1</td>\n",
       "      <td>urgent call 09061749602 landlin complimentari ...</td>\n",
       "    </tr>\n",
       "    <tr>\n",
       "      <th>1</th>\n",
       "      <td>1</td>\n",
       "      <td>hot live fantasi call 08707500020 20p per min ...</td>\n",
       "    </tr>\n",
       "    <tr>\n",
       "      <th>2</th>\n",
       "      <td>0</td>\n",
       "      <td>ãã come lt 25 n pass lar</td>\n",
       "    </tr>\n",
       "    <tr>\n",
       "      <th>3</th>\n",
       "      <td>0</td>\n",
       "      <td>wonder okor great month cherish guy wish well ...</td>\n",
       "    </tr>\n",
       "    <tr>\n",
       "      <th>4</th>\n",
       "      <td>1</td>\n",
       "      <td>hot live fantasi call 08707500020 20p per min ...</td>\n",
       "    </tr>\n",
       "  </tbody>\n",
       "</table>\n",
       "</div>"
      ],
      "text/plain": [
       "   label                                           document\n",
       "0      1  urgent call 09061749602 landlin complimentari ...\n",
       "1      1  hot live fantasi call 08707500020 20p per min ...\n",
       "2      0                         ãã come lt 25 n pass lar\n",
       "3      0  wonder okor great month cherish guy wish well ...\n",
       "4      1  hot live fantasi call 08707500020 20p per min ..."
      ]
     },
     "execution_count": 17,
     "metadata": {},
     "output_type": "execute_result"
    }
   ],
   "source": [
    "df_train.head()"
   ]
  },
  {
   "cell_type": "code",
   "execution_count": 18,
   "metadata": {},
   "outputs": [],
   "source": [
    "bow = CountVectorizer()\n",
    "bow.fit(df_train['document'])\n",
    "X = bow.transform(df_train['document'])\n",
    "y = df_train['label']"
   ]
  },
  {
   "cell_type": "code",
   "execution_count": 19,
   "metadata": {},
   "outputs": [
    {
     "name": "stdout",
     "output_type": "stream",
     "text": [
      "Fitting 5 folds for each of 6 candidates, totalling 30 fits\n",
      "[CV 1/5; 1/6] START alpha=0.01..................................................\n",
      "[CV 1/5; 1/6] END ...................alpha=0.01;, score=1.000 total time=   0.0s\n",
      "[CV 2/5; 1/6] START alpha=0.01..................................................\n",
      "[CV 2/5; 1/6] END ...................alpha=0.01;, score=0.999 total time=   0.0s\n",
      "[CV 3/5; 1/6] START alpha=0.01..................................................\n",
      "[CV 3/5; 1/6] END ...................alpha=0.01;, score=0.998 total time=   0.0s\n",
      "[CV 4/5; 1/6] START alpha=0.01..................................................\n",
      "[CV 4/5; 1/6] END ...................alpha=0.01;, score=0.999 total time=   0.0s\n",
      "[CV 5/5; 1/6] START alpha=0.01..................................................\n",
      "[CV 5/5; 1/6] END ...................alpha=0.01;, score=0.998 total time=   0.0s\n",
      "[CV 1/5; 2/6] START alpha=0.1...................................................\n",
      "[CV 1/5; 2/6] END ....................alpha=0.1;, score=0.999 total time=   0.0s\n",
      "[CV 2/5; 2/6] START alpha=0.1...................................................\n",
      "[CV 2/5; 2/6] END ....................alpha=0.1;, score=0.999 total time=   0.0s\n",
      "[CV 3/5; 2/6] START alpha=0.1...................................................\n",
      "[CV 3/5; 2/6] END ....................alpha=0.1;, score=0.998 total time=   0.0s\n",
      "[CV 4/5; 2/6] START alpha=0.1...................................................\n",
      "[CV 4/5; 2/6] END ....................alpha=0.1;, score=0.998 total time=   0.0s\n",
      "[CV 5/5; 2/6] START alpha=0.1...................................................\n",
      "[CV 5/5; 2/6] END ....................alpha=0.1;, score=0.997 total time=   0.0s\n",
      "[CV 1/5; 3/6] START alpha=1.....................................................\n",
      "[CV 1/5; 3/6] END ......................alpha=1;, score=0.998 total time=   0.0s\n",
      "[CV 2/5; 3/6] START alpha=1.....................................................\n",
      "[CV 2/5; 3/6] END ......................alpha=1;, score=0.995 total time=   0.0s\n",
      "[CV 3/5; 3/6] START alpha=1.....................................................\n",
      "[CV 3/5; 3/6] END ......................alpha=1;, score=0.995 total time=   0.0s\n",
      "[CV 4/5; 3/6] START alpha=1.....................................................\n",
      "[CV 4/5; 3/6] END ......................alpha=1;, score=0.994 total time=   0.0s\n",
      "[CV 5/5; 3/6] START alpha=1.....................................................\n",
      "[CV 5/5; 3/6] END ......................alpha=1;, score=0.996 total time=   0.0s\n",
      "[CV 1/5; 4/6] START alpha=10....................................................\n",
      "[CV 1/5; 4/6] END .....................alpha=10;, score=0.995 total time=   0.0s\n",
      "[CV 2/5; 4/6] START alpha=10....................................................\n",
      "[CV 2/5; 4/6] END .....................alpha=10;, score=0.991 total time=   0.0s\n",
      "[CV 3/5; 4/6] START alpha=10....................................................\n",
      "[CV 3/5; 4/6] END .....................alpha=10;, score=0.993 total time=   0.0s\n",
      "[CV 4/5; 4/6] START alpha=10....................................................\n",
      "[CV 4/5; 4/6] END .....................alpha=10;, score=0.990 total time=   0.0s\n",
      "[CV 5/5; 4/6] START alpha=10....................................................\n",
      "[CV 5/5; 4/6] END .....................alpha=10;, score=0.994 total time=   0.0s\n",
      "[CV 1/5; 5/6] START alpha=100...................................................\n",
      "[CV 1/5; 5/6] END ....................alpha=100;, score=0.992 total time=   0.0s\n",
      "[CV 2/5; 5/6] START alpha=100...................................................\n",
      "[CV 2/5; 5/6] END ....................alpha=100;, score=0.987 total time=   0.0s\n",
      "[CV 3/5; 5/6] START alpha=100...................................................\n",
      "[CV 3/5; 5/6] END ....................alpha=100;, score=0.989 total time=   0.0s\n",
      "[CV 4/5; 5/6] START alpha=100...................................................\n",
      "[CV 4/5; 5/6] END ....................alpha=100;, score=0.984 total time=   0.0s\n",
      "[CV 5/5; 5/6] START alpha=100...................................................\n",
      "[CV 5/5; 5/6] END ....................alpha=100;, score=0.991 total time=   0.0s\n",
      "[CV 1/5; 6/6] START alpha=1000..................................................\n",
      "[CV 1/5; 6/6] END ...................alpha=1000;, score=0.986 total time=   0.0s\n",
      "[CV 2/5; 6/6] START alpha=1000..................................................\n",
      "[CV 2/5; 6/6] END ...................alpha=1000;, score=0.979 total time=   0.0s\n",
      "[CV 3/5; 6/6] START alpha=1000..................................................\n",
      "[CV 3/5; 6/6] END ...................alpha=1000;, score=0.982 total time=   0.0s\n",
      "[CV 4/5; 6/6] START alpha=1000..................................................\n",
      "[CV 4/5; 6/6] END ...................alpha=1000;, score=0.971 total time=   0.0s\n",
      "[CV 5/5; 6/6] START alpha=1000..................................................\n",
      "[CV 5/5; 6/6] END ...................alpha=1000;, score=0.981 total time=   0.0s\n"
     ]
    },
    {
     "data": {
      "text/plain": [
       "GridSearchCV(cv=5, estimator=MultinomialNB(),\n",
       "             param_grid={'alpha': [0.01, 0.1, 1, 10, 100, 1000]},\n",
       "             scoring='roc_auc', verbose=10)"
      ]
     },
     "execution_count": 19,
     "metadata": {},
     "output_type": "execute_result"
    }
   ],
   "source": [
    "NB = naive_bayes.MultinomialNB()\n",
    "params_grid = {'alpha':[0.01,0.1,1,10,100,1000]}\n",
    "model = GridSearchCV(estimator=NB,param_grid=params_grid,cv=5,scoring='roc_auc',verbose=10)\n",
    "model.fit(X,y)"
   ]
  },
  {
   "cell_type": "code",
   "execution_count": 20,
   "metadata": {},
   "outputs": [
    {
     "data": {
      "text/plain": [
       "0.9988055805813405"
      ]
     },
     "execution_count": 20,
     "metadata": {},
     "output_type": "execute_result"
    }
   ],
   "source": [
    "model.best_score_"
   ]
  },
  {
   "cell_type": "code",
   "execution_count": 21,
   "metadata": {},
   "outputs": [
    {
     "data": {
      "text/plain": [
       "{'alpha': 0.01}"
      ]
     },
     "execution_count": 21,
     "metadata": {},
     "output_type": "execute_result"
    }
   ],
   "source": [
    "model.best_params_"
   ]
  },
  {
   "cell_type": "code",
   "execution_count": 22,
   "metadata": {},
   "outputs": [],
   "source": [
    "df_test['document'] = df_test['document'].apply(clean_text)"
   ]
  },
  {
   "cell_type": "code",
   "execution_count": 25,
   "metadata": {},
   "outputs": [
    {
     "name": "stdout",
     "output_type": "stream",
     "text": [
      "For Alpha = 0.0001, train auc = 0.99 and test auc = 0.94\n"
     ]
    }
   ],
   "source": [
    "X_test = bow.transform(df_test['document'])\n",
    "y_test = df_test['label']\n",
    "\n",
    "NB = naive_bayes.MultinomialNB(alpha=0.01)\n",
    "NB.fit(X,y)\n",
    "\n",
    "train_auc = round(metrics.roc_auc_score(y,NB.predict(X)),2)\n",
    "test_auc = round(metrics.roc_auc_score(y_test,NB.predict(X_test)),2)\n",
    "\n",
    "print(f'For Alpha = 0.01, train auc = {train_auc} and test auc = {test_auc}')"
   ]
  },
  {
   "cell_type": "code",
   "execution_count": 39,
   "metadata": {},
   "outputs": [
    {
     "data": {
      "text/plain": [
       "array([ -8.75283438,  -9.26299423,  -9.44498306, ...,  -9.26299423,\n",
       "        -9.10908128, -15.66158916])"
      ]
     },
     "execution_count": 39,
     "metadata": {},
     "output_type": "execute_result"
    }
   ],
   "source": [
    "NB.coef_[0]"
   ]
  },
  {
   "cell_type": "code",
   "execution_count": 40,
   "metadata": {},
   "outputs": [],
   "source": [
    "from sklearn.feature_selection import chi2\n",
    "from sklearn.feature_selection import SelectKBest"
   ]
  },
  {
   "cell_type": "code",
   "execution_count": 45,
   "metadata": {},
   "outputs": [
    {
     "data": {
      "text/plain": [
       "(7762, 6829)"
      ]
     },
     "execution_count": 45,
     "metadata": {},
     "output_type": "execute_result"
    }
   ],
   "source": [
    "X.toarray().shape"
   ]
  },
  {
   "cell_type": "code",
   "execution_count": 49,
   "metadata": {
    "collapsed": true
   },
   "outputs": [
    {
     "data": {
      "text/plain": [
       "0       1\n",
       "1       1\n",
       "2       0\n",
       "3       0\n",
       "4       1\n",
       "       ..\n",
       "7757    1\n",
       "7758    1\n",
       "7759    1\n",
       "7760    1\n",
       "7761    1\n",
       "Name: label, Length: 7762, dtype: int64"
      ]
     },
     "execution_count": 49,
     "metadata": {},
     "output_type": "execute_result"
    }
   ],
   "source": [
    "y"
   ]
  },
  {
   "cell_type": "code",
   "execution_count": 48,
   "metadata": {},
   "outputs": [],
   "source": [
    "chi2_features = SelectKBest(chi2, k = 500)"
   ]
  },
  {
   "cell_type": "code",
   "execution_count": 51,
   "metadata": {},
   "outputs": [
    {
     "data": {
      "text/plain": [
       "(7762, 500)"
      ]
     },
     "execution_count": 51,
     "metadata": {},
     "output_type": "execute_result"
    }
   ],
   "source": [
    "chi2_features.fit_transform(X,y).toarray().shape"
   ]
  },
  {
   "cell_type": "code",
   "execution_count": 69,
   "metadata": {},
   "outputs": [],
   "source": [
    "chi_scores = chi2(X,y)"
   ]
  },
  {
   "cell_type": "code",
   "execution_count": 70,
   "metadata": {},
   "outputs": [
    {
     "data": {
      "text/plain": [
       "(array([10.,  6.,  5., ...,  6.,  7.,  1.]),\n",
       " array([0.0015654 , 0.01430588, 0.02534732, ..., 0.01430588, 0.00815097,\n",
       "        0.31731051]))"
      ]
     },
     "execution_count": 70,
     "metadata": {},
     "output_type": "execute_result"
    }
   ],
   "source": [
    "chi_scores"
   ]
  },
  {
   "cell_type": "code",
   "execution_count": 71,
   "metadata": {},
   "outputs": [
    {
     "data": {
      "text/plain": [
       "array([10.,  6.,  5., ...,  6.,  7.,  1.])"
      ]
     },
     "execution_count": 71,
     "metadata": {},
     "output_type": "execute_result"
    }
   ],
   "source": [
    "chi_values = chi_scores[0]\n",
    "chi_values "
   ]
  },
  {
   "cell_type": "code",
   "execution_count": 72,
   "metadata": {},
   "outputs": [
    {
     "data": {
      "text/plain": [
       "6829"
      ]
     },
     "execution_count": 72,
     "metadata": {},
     "output_type": "execute_result"
    }
   ],
   "source": [
    "len(chi_values)"
   ]
  },
  {
   "cell_type": "code",
   "execution_count": 73,
   "metadata": {},
   "outputs": [
    {
     "data": {
      "text/plain": [
       "6829"
      ]
     },
     "execution_count": 73,
     "metadata": {},
     "output_type": "execute_result"
    }
   ],
   "source": [
    "len(bow.get_feature_names())"
   ]
  },
  {
   "cell_type": "code",
   "execution_count": 74,
   "metadata": {},
   "outputs": [
    {
     "data": {
      "text/plain": [
       "call     1350.955699\n",
       "free     1073.898894\n",
       "txt       799.574140\n",
       "mobil     740.417526\n",
       "claim     627.000000\n",
       "            ...     \n",
       "havin       0.000000\n",
       "door        0.000000\n",
       "child       0.000000\n",
       "eye         0.000000\n",
       "darl        0.000000\n",
       "Length: 6829, dtype: float64"
      ]
     },
     "execution_count": 74,
     "metadata": {},
     "output_type": "execute_result"
    }
   ],
   "source": [
    "chi_values = pd.Series(chi_values,index=bow.get_feature_names()).sort_values(ascending=False)\n",
    "chi_values"
   ]
  },
  {
   "cell_type": "code",
   "execution_count": 75,
   "metadata": {},
   "outputs": [
    {
     "data": {
      "text/plain": [
       "call         1350.955699\n",
       "free         1073.898894\n",
       "txt           799.574140\n",
       "mobil         740.417526\n",
       "claim         627.000000\n",
       "                ...     \n",
       "liverpool      24.000000\n",
       "8552           24.000000\n",
       "juz            24.000000\n",
       "87021          24.000000\n",
       "k52            24.000000\n",
       "Length: 500, dtype: float64"
      ]
     },
     "execution_count": 75,
     "metadata": {},
     "output_type": "execute_result"
    }
   ],
   "source": [
    "chi_values[:500]"
   ]
  },
  {
   "cell_type": "code",
   "execution_count": 78,
   "metadata": {},
   "outputs": [
    {
     "name": "stdout",
     "output_type": "stream",
     "text": [
      "['call', 'free', 'txt', 'mobil', 'claim', 'text', 'repli', 'stop', 'prize', 'tone', 'ur', 'servic', 'nokia', 'award', 'cash', 'urgent', 'week', '16', 'contact', 'collect', 'guarante', 'gt', 'lt', 'win', '1000', 'new', 'offer', '500', '150', 'cs', 'min', '150ppm', 'per', 'custom', '2000', 'voucher', '18', 'draw', 'chat', 'landlin', '100', 'latest', 'come', 'box', 'rington', 'po', 'holiday', 'phone', 'receiv', 'camera', 'code', 'show', 'appli', 'mob', 'ok', '150p', 'rate', 'video', '5000', 'onli', '1st', 'everi', 'await', 'attempt', 'poli', 'entri', 'got', 'select', 'uk', 'sae', 'lor', 'nt', '8007', 'orang', 'pleas', 'pic', 'network', '800', 'line', 'live', 'privat', 'expir', 'valid', 'wk', 'date', 'home', 'bonus', 'later', 'say', 'da', 'unredeem', 'identifi', 'chanc', 'cost', 'colour', 'love', 'statement', 'music', '750', '08000930705', 'camcord', 'messag', 'pobox', 'send', 'oper', 'doubl', 'tri', '2003', '250', '0800', 'pound', '08000839402', 'game', 'deliveri', 'mobileupd8', '2nd', '12hrs', 'work', 'sex', '150pm', 'hot', 'http', '10p', '200', 'ltd', 'nation', '86688', 'unsubscrib', 'sorri', 'top', '150pmsg', 'congratul', 'winner', 'price', 'updat', 'dog', 'savamob', 'said', 'oh', 'much', 'point', 'content', 'txting', 'account', 'wat', 'flag', 'wkli', 'happi', 'opt', '87066', 'thing', 'end', 'quiz', 'morn', 'charg', 'info', 'play', 'yeah', 'sure', '10pmin', 'fantasi', 'amp', 'freemsg', 'final', 'land', 'like', 'ipod', 'time', 'way', 'gift', 'england', 'cos', 'sms', 'xmas', 'buy', 'ntt', 'sleep', 'eg', 'club', 'motorola', 'meet', 'special', 'realli', 'complimentari', 'wwwgetzedcouk', 'unlimit', 'caller', '12', 'txts', 'someth', '300', '2004', 'watch', 'finish', 'sexi', 'smile', 'anyth', 'rental', 'worth', 'join', 'ts', 'ill', 'chariti', 'lol', 'good', 'summer', 'optout', '87077', '350', 'anytim', 'leav', 'number', 'hope', 'welcom', 'ldn', 'gon', 'msg', 'alreadi', 'enter', 'bluetooth', 'sport', 'alway', 'gud', 'horni', 'weekend', 'order', 'auction', 'repres', 'feel', 'mate', 'no1', 'del', 'congrat', 'yr', '10', 'cd', 'follow', 'happen', 'nice', 'plan', 'wap', 'told', 'digit', 'std', 'soni', 'one', 'comp', '08712460324', '36504', 'get', 'bahama', 'dun', 'costã', 'tenerif', '11mths', 'mean', 'unsub', 'freephon', 'let', 'sunshin', '5wb', '1327', 'cr9', 'custcar', '20p', 'croydon', 'player', 'themob', 'subscrib', 'norm150pton', 'w45wq', 'sub', 'fanci', 'store', 'discount', 'holder', 'handset', 'ya', 'word', 'hey', 'car', 'polyphon', 'age16', 'need', 'member', 'bid', '85023', 'haha', 'hl', 'zed', 'linerent', 'rcvd', 'went', 'thk', 'entitl', 'eat', 'area', 'find', 'ask', 'pc', 'btnationalr', 'spree', '10000', 'lunch', 'pass', 'dat', '3030', 'fine', 'real', 'match', 'reveal', 'problem', 'fuck', '0870', 'yup', 'inc', 'sp', 'valu', 'either', 'import', 'late', 'user', 'stockport', 'costa', 'toclaim', 'vari', 'tncs', 'pobox334', 'max10min', '09050090044', 'job', 'sol', 'bit', 'sk38xh', 'credit', 'dvd', 'titl', '25p', '08707509020', 'current', 'reward', 'sky', 'goal', 'announc', 'invit', '18on', 'arsenal', 'hmv', 'quit', 'go', 'gay', 'direct', '3wk', 'dload', 'tcs', 'videochat', 'nolin', 'videophon', 'rentl', 'java', 'ca', 'half', 'w111wx', 'long', 'box39822', '40gb', 'wonder', 'yer', 'eng', '84199', 'decemb', 'worri', 'saturday', 'news', 'age', 'veri', 'jordan', 'rememb', 'upgrad', 'admir', '88066', '150ptone', 'loyalti', 'hurt', 'liao', 'etc', 'think', 'help', '3g', 'better', 'thanx', 'sweet', '87239', 'bed', 'cw25wx', 'earli', 'lar', 'wwwldewcom1win150ppmx3age16', 'record', '900', 'night', 'locat', 'flight', '542', '3510i', 'sipix', 'largest', 'aight', '5we', 'jus', 'ec2a', 'ntwk', 'xchat', 'bx420', 'bad', 'ah', 'ip4', 'kiss', 'probabl', 'henri', 'secret', 'befor', 'around', 'asap', 'right', 'refus', 'txtin', 'didnt', 'dinner', 'dad', 'pa', 'actual', '786', '87121', 'remov', '62468', 'logo', 'wont', '4info', '400', 'still', 'partner', 'easi', 'pocketbabecouk', 'celeb', '450', 'eeri', 'box95qu', '83600', 'spook', '08001950382', '80062', 'princess', 'dunno', 'onto', 'might', 'without', 'onc', 'den', '150perwksub', 'school', 'face', 'tariff', 'link', 'msgs', 'soon', 'would', 'offici', 'laid', 'fone', 'rreveal', 'ufind', '10am7pm', 'tmr', '125gift', 'lose', '150pmsgrcvdhgsuite3422landsroww1j6hl', 'sonyericsson', 'shall', 'pobox36504w45wq', 'wake', 'leh', 'afternoon', '2optout', 'anyway', 'specialcal', 'inform', 'speak', 'term', 'mp3', 'local', 'make', 'netcollex', 'pobox84', 'forgot', 'liverpool', '8552', 'juz', '87021', 'k52', 'txtauction', 'o2', 'wc1n3xx', 'subscript', '2005', 'read', 'fa', 'thought', 'citi', 'question', 'wwwurawinnercom', 'fantast', '88600', 'cc', 'decid', 'cashin', '1x150pwk', '82277', 'cashbal', 'tkts', 'pain', '020603', 'box97n7qp', 'maxim', 'goe', 'everyth', 'access', 'arriv', 'pick', 'money', 'wish', 'abl', 'co', '09061213237', '07786200117', 'action', 'santa', 'm227xi', 'bx420ip45w', '83355', 'bus', 'starwars3', 'suprman', '177', '09061209465', 'callfreefon', 'ac', 'matrix3', 'freefon', 'wwwringtonescouk', '3gbp', 'origin', 'ofã', '08081560665', 'activ', 'also', 'well', 'refer', 'previous', 'visit', 'contract', 'warner', 'adult', 'sir', 'test', '81618', 'subpoli', 'famili', 'left', 'voicemail', 'wif', '75000', 'havent', '08717898035', '1956669', 'mail', 'purpos', 'tenant', '87575', 'homeown', 'beauti', 'abt', 'sim', 'cool', 'doe', 'choos', 'never', 'gr8', 'cup', 'oso', 'lei', '45239', 'alright', '31pmsg', '0578', 'hav', '89545', 'mobi', 'www4tcbiz', '08718726270150gbpmtmsg18', '69669', 'vip', 'hand', '08712405020', 'pod', 'head', 'know', 'luck', 'within', 'heart', 'enjoy', 'cruis', 'polyh', 'sad', 'til', 'plz', '08002986906', 'tmobil', '08715705022', 'lesson', '021', 'chosen', '09061744553', '150pmin', 'food', '0845', 'friendship', 'skilgm', 'nite', '88039', '18yr', '80488', 'hgsuite3422land', 'shit', 'crazi', 'hous', 'deliv', 'stuff', 'life', 'score', 'cross', 'mths', 'london', 'person', 'decim', 'box326', 'alfi', 'hair', '28', 'age23', 'm263uz', 'okay', 'though', '30pptxt', 'ard', 'euro2004', '08701417012', '08712300220', 'cds', '123', '113', 'mtalk', 'increment', 'rstm', 'nok', 'fromm', 'wicklow', '09061221066', '5free', '86021', 'caus', 'room', 'eir', 'de', 'saw', '08708034412', 'bray', 'help08718728876', 'mom', 'lifetim', 'blond', 'mila', '6986618', 'neva', '69888', '09061743806', '3ss', 'm8s', '50p', '81303', 'smoke', 'dude', 'sw7', 'custcare08718720201', 'blu', 'shag', 'put', 'regist', 'walk', 'shop', 'renew', 'sept', 'super', 'loan', '2nite', '1500', 'full', '8wp', '87131', 'six', 'sk3', 'updatenow', 'mum', '08718720201', 'premier', '10k', '82242', 'abta', 'ibiza', 'tcrw1', 'wen', 'second', 'oki', 'alert', 'vodafon', 'maxã', '11414', '434', 'care', 'click', 'see', 'hol', 'run', 'villag', 'chang', 'xxx', 'verifi', 'tc', 'notic', 'name', '08718727870', 'carlo', 'sauci', '020903', 'sptv', 'huh', 'premium', 'med', '0808', 'postcod', 'sister', 'porn', 'prob', 'wml', 'gent', 'newest', '145', '9am11pm', '07xxxxxxxxx', 'callback', 'goin', 'haf', 'sch', '4742', 'kind', '80082', '09064012160', '2stoptxt', 'parent', 'mine', 'tomo', 'aft', 'onlin', 'widelivecomindex', 'rite', 'spanish', 'simpli', 'pls', 'lucki', 'profit', 'brand', 'dave', 'god', 'birthday', 'fun', 'tho', '186ã', '3aj', '2day', '09065989182', 'gender', 'joke', 'noe', 'studi', 'aco', 'togeth', 'light', 'visionsmscom', '82468', 'shracomorsglsuplt', '54', 'tot', 'canari', '09066364311', 'sam', 'morefrmmob', '3min', 'pari', 'move', 'entry41', '88888', 'knw', 'tnc', 'jamster', 'euro', '09061702893', 'trav', 'eurodisinc', 'gd', 'ls1', 'chart', 'wil', 'world', 'two', 'singl', 'anoth', 'cancel', 'rpli', 'condit', 'uniqu', 'awesom', 'coz', '78', 'mobilesvari', 'whatev', 'gprs', '89070', 'halloween', '89080', 'reason', '42049', 'acl03530150pm', 'yard', 'chikku', '41685', 'free2day', '08719180248', '050703', '0870241182716', '09071512433', '07742676969', '08452810073', '071104', '08715203656', 'csbcm4235wc1n3xx', 'call2optoutlf56', '80182', 'touch', '261004', 'bergkamp', 'speedchat', 'upd8', 'angri', 'smth', 'took', '1250', 'margin', 'bath', 'georg', 'callcost', 'mix', 'call09050000327', 'far', 'hold', 'man', 'even', 'im', 'goto', 'mani', 'detail', 'recent', '4u', 'extra', 'film', '50', 'frnd', 'provid', 'download', 'tbspersolvo', '3uz', '38', '08715203694', 'chennai', 'cameravideo', '60pmin', 'polyph', 'datebox1282essexcm61xn', 'sun', 'wrong', 'plus', 'suppos', 'call2optoutj', 'ppm', 'hee', 'bundl', 'jay', 'age16ã', '449month', 'indic', 'wwwtextpodnet', 'britney', 'kath', 'outsid', '311004', '6031', '40533', 'avbl', 'ibhltd', '150week', 'exam', '8077', '08719181513', '10am9pm', 'textpod', 'sea', 'roww1jhl', '85069', 'm26', 'goodmorn', '84128', 'colleg', 'gal', '09063458130', '88039skilgmetscs087147403231winawk', 'forã', 'usher', '169', 'boytoy', 'manchest', 'least', '150pmtmsgrcvd18', 'mnths', '7250i', 'gas', 'ldnw15h', 'tscs087147403231winawk', 'mf', 'someon', 'envelop', 'excit', 'stamp', 'b4', '11', 'cinema', 'first', 'dont', 'rude', 'luxuri', 'biggest', 'iscom', 'truli', '80608', 'usual', '02085076972', 'u4', '4t', '08700621170150p', '08452810075over18', 'farrel', 'amanda', '087016248', 'tsandc', 'subject', '3680', 'logop', '150pday', 'interest', '08701417012150p', 'nat', '3650', 'rct', 'rgds', 'b4280703', '2end', 'twilight', '01223585334', '83118', '02073162414', 'gbpweek', 'tyron', 'sis', 'tire', 'adrian', 'sit', 'darlin', 'vatian', '88088', 'safe', 'uncl', 'freemessag', '2c', 'treat', 'frog', '31', '09066382422', 'ltdhelpdesk', '30', '4712', 'yar', 'understand', 'friday', 'catch', 'housew', '300603', '09066612661', 'deliveredtomorrow', 'mad2', 'm6', 'colin', 'recd', 'mad1', '1450', 'gamestar', 'strt', 'ansr', 'blue', 'aom', 'dracula', 'okmail', 'tones2u', 'wwwmovietriviatv', '12mths', 'funk', 'project', '0871277810810', '6wu', 'th', '08718730666', 'addamsfa', 'mu', 'swat', 'btooth', 'ha', '16on', 'thnq', '08717507711', 'exorcist', 'crave', 'scream', 'ghost', 'kioskvalid', '09050002311', 'bday', 'box385', '20pmin', 'msgticket', '6day', 'kiosk', 'btnation', 'mre', 'bcm4284', 'sw73ss', 'csstop', '20000', 'british', 'wit', '08718727868', 'meant', 'munster', '24hrs', '08712405022', '250k', '09058091854', 'csh11', '21st', 'improv', 'boy', 'flirt', 'quot', 'shot', 'futur', 'hello', 'muz', 'bring', 'bout', 'nope', 'snow', 'fight', 'callsã', '21870000', 'peak', 'freesend', '087147123779am7pm', 'frnds', 'askd', 'sometim', 'ass', 'genuin', 'mquiz', 'moment', '3pound', 'spend', 'cannam', 'serious', '0207', 'fixedlin', 'ringtoneget', 'mobilesdirect', 'or2stoptxt', 'retriev', 'abiola', 'tscs', 'resubmit', 'gone', 'truth', 'grin', 'weekstop', 'clean', 'paper', '69888nyt', 'conact', '326', 'case', '0776xxxxxxx', 'reschedul', 'textbuddi', 'standard', '09111030116', 'ago', 'male', 'whole', 'voda', '08000938767', 'b4190604', '0870k', '153', 'cr01327bt', 'mailbox', 'pobox12n146tf15', 'australia', '4mths', '7876150ppm', 'hmmm', 'hgsuite3422landsroww1j6hl', '09050003091', 'shower', 'c52', 'rain', '78pmin', '15pmin', '09056242159', 'gaytextbuddycom', '09058099801', 'www100percentrealcom', 'rcv', 'bslvyl', '89693', 'ni8', '09064011000', 'felt', '5k', 'quick', 'call2optoutn9dx', '08709222922', 'sms08718727870', 'iâ', 'expiri', 'mrng', 'today', 'sort', 'children', 'sing', 'els', 'juli', 'norm', 'wid', '83383', 'otbox', '89938', 'bulb', '69698', 'ringtoneã', 'id820554ad0a1705572711', 'silent', 'la1', '82277unsub', 'murder', '731', '7cfca1a', 'oredi', 'march', 'almost', 'rest', '7ws', 'slow', 'ls15hb', 'kid', 'notxtcouk', 'box177', 'call2optoutf4q', 'across', 'logon', 'scotsman', 'laptop', 'picsfree1', 'kate', 'lionp', 'm221bp', 'quizwin', '4217', 'pretti', 'msg150p', '85', '6zf', '61610', 'seed', 'minstext', 'mono', 'pã', 'sexychat', '80878', '8883', 'blind', 'mah', '4txt120p', 'lionm', '008704050406', 'garden', '09061221061', '118pmsg', 'toppoli', 'darren', '3350', 'httptms', '08704439680', '28day', '0870737910216yr', 'funki', 'tones2youcouk', 'whenev', 'cut', '1minmobsmorelkpobox177hp51fl', 'warranti', 'voic', 'cashbincouk', '08718730555', '150ea', 'eh', 'earlier', '08712317606', 'go2', '08712103738', '09058094455', 'germani', 'w1a', 'hospit', '09050000332', '1172', 'hmm', '08718726970', 'help08712400602450p', 'empti', 'string', 'wwwcashbincouk', 'duchess', 'firsttrueã', '09066364589', 'filthi', '09066358152', '2rcv', '02', 'tune', '08714719523', 'write', '399', 'hlp', '087018728737', 'fren', 'clear', 'difficult', '10803', 'fr', '0870141701216', 'chitchat', '08000776320', 'copi', '2p', '150wk', 'five', 'island', 'receipt', 'team', 'wot', 'ring', 'harri', 'popcorn', 'lotr', 'knock', '1000s', 'footbal', 'realiti', 'explicit', 'take', 'big', '241', 'monthlysubscript', 'plyr', 'swing', 'cheer', '08002888812', '08715203677', 'kk', 'power', '241004', 'choic', '09066649731from', 'tampa', 'nah', 'shinco', 'share', 'simonwatson5120', '50pmsg', 'possibl', 'shes', 'sick', 'acsmsreward', '528', 'teach', '08707500020', '09066362231', '08718729758', 'accept', '09061790126', '150pmmorefrommobile2bremovedmobypobox734ls27yf', '09058094597', '09058094599', '150mtmsgrcvd18', '09061104276', '13404', 'usf', 'comin', '121', '80160', '09061749602', 'fri', 'cust', 'm39m51', '09064015307', 'road', 'trust', 'foley', '09065394514', 'figur', 'ltdã', '09066368327', '83370', 'unclaim', 'excus', '74355', 'ex', 'max6month', 'knew', 'claimcod', 'gravel', '08717507382', 'barkley', '1yf', 'monday', 'web', 'semest', 'sell', '08718726270', '08718726978', 'seen', 'mm', 'box334sk38ch', 'wwwapplausestorecom', 'proze', 'closingdate040902', 'bcoz', 'csc', 'gnarl', 'pt2', '08719899230', 'drug', 'gym', 'doesnt', '2stop', 'stupid', 'small', 'wwwmusictrivianet', 'hp20', 'nytec2a3lpmsg', '42478', 'novemb', 'dept', 'wwwtxt43com', '07753741225', '078', '375max', 'idea', '3lion', '07808726822', 'xy', 'wwwsmsconet', 'horniest', 'otherwis', '447801259231', 'wwwwin82050couk', 'outbid', 'notif', '300p', 'someonon', 'slowli', 'yep', 'inclus', 'norcorp', 'wwwetlpcoukexpressoff', 'lot', 'sale', 'moon', 'stori', 'ani', 'hit', 'talk', 'mayb', 'karaok', 'unabl', 'capit', 'babi', '6month', 'sat', 'log', 'miss', 'hi', 'fml', 'high', 'accid', 'set', 'hotel', 'dena', '0721072', 'goldvik', 'classic', '08718711108', 'wednesday', 'upgrdcentr', 'divorc', 'wan2', 'weight', 'arcad', 'gr8prize', 'doctor', 'bb', 'wear', 'urself', 'stand', 'dnt', '402', '08000407165', 'httpwwwgr8prizescom', '8800', 'rs', 'callertun', '69696', 'penc', 'm8', '69855', 'yoher', 'mode', 'list', 'stopbcm', 'sugabab', 'incorrect', 'mark', '150pwk', 'exact', '150ptext', 'cours', '09058098002', '7634', '9153', 'villa', '7684', 'gap', 'expect', 'yes762', 'gbpsms', 'cashto', 'maniac', 'ralli', '09058094583', '150msg', 'gave', 'cover', '89034', 'apart', 'somewher', '4403ldnw1a7rw18', 'psp', '08719181503', 'www07781482378com', 'minapn', 'wallpaperal', 'gmw', 'father', 'fat', '09061743386', 'panther', 'thinkin', 'becausethey', 'disturb', 'valid12hr', 'merri', 'getstop', 'lazi', 'lccltd', 'uve', 'colleagu', 'membership', '88800', 'w14rg', 'meetgreet', '88222', '2stoptx', 'barbi', 'subscribe6gbpmnth', 'side', 'ho', 'sic', 'poor', 'jersey', 'adp', 'no762', 'txtstop', 'nobodi', 'aã', '0870753331018', 'headset', 'wktxt', 'detroit', 'interflora', '09066350750', 'wither', 'joy', '09099726481', '83049', 'fill', '85555', 'hoodi', 'woke', '28th', 'bag', 'wwwsmsacugoldvik', 'convey', 'replys150', 'wwwdbuknet', 'pobox1', 'unbreak', '08006344447', '0825', 'wwwetlpcoukreward', 'pobox75ldns7', 'advisor', 'wwwflirtpartyus', 'bless', '09090204448', '08452810071', 'jackpot', 'wwwldewcomsubs161win150ppmx3', '29m', 'ugh', '09090900040', 'hw', 'poly200p', 'ls278bb', '3lp', 'badass', 'wing', '3hrs', '06', 'tarot', '247mp', '09064017305', 'ref9307622', 'chloe', 'differ', '60p', 'none', 'untam', 'westlif', '2007', '09064017295', 'sf', 'mood', 'noon', '81010', 'x49your', 'extrem', 'honey', '07090298926', 'tear', 'str8', 'teas', 'call2optout674', 'librari', '3750', 'slower', 'devil', 'eg23f', 'php', 'wildest', '087123002209am7pm', 'unkempt', 'doin', 'eg23g', '100000', '600', '22', 'student', 'diall', 'ken', 'nokia150p', '4fil', 'zebra', '86888', '2night', 'password', 'correct', 'place', 'mind', 'cornwal', 'fan', 'hubbi', 'cam', 'loung', 'review', 'rec', '2yr', 'prompt', 'advis', 'cock', 'daili', 'cm', 'item', 'pole', 'came', 'cheap', 'fast', 'countri', 'immedi', 'upload', 'confirm', 'competit', 'cant', 'becaus', 'start', 'file', 'daddi', '85222', 'efreefon', 'winnersclub', '08712400200', 'aha', 'wwwtxt82228com', 'yes434', '08712400603', '08709501522', 'elvi', '0871277810910pmin', 'or2optouthv9d', 'cop', '08714712388', 'presid', 'presley', '08714712412', 'nokia6600', 'wwwvouch4mecometlpdiningasp', 'no81151', 'doit', 'wwwsmsacubootydeli', 'finger', '09066380611', 'net', 'wwwareyouuniquecouk', '08002986030', 'pobox202', 'poboxox36504w45wq', 'natur', 'natalja', 'pizza', 'wwwsmsacunat27081980', '09066362206', '08706091795', 'no434', 'pop', 'rent', 'no440', 'zouk', 'bangb', '09066362220', 'pictur', 'mymobi', '08714714011', 'artist', 'wwwwtlpcouktext', 'omw', 'fault', '08718738001', '08718738002', 'omg', 'especi', '08719181259', 'bedroom', '09061701851', 'o2fwd', '07815296484', 'cri', '077xxx', 'vpod', '09050000460', 'vl', 'rcd', 'excel', 'exp', 'experi', 'experiencehttp', 'dirtiest', 'manag', 'yes440', '0794674629107880867867', 'yest', 'bangbab', '08718729755', 'moral', 'x49', 'xafter', 'malaria', 'xclusiv', 'weed', 'mon', 'doc', 'xxsp', 'mobsicom', 'fetch', 'abroad', 'din', 'macedonia', 'nr31', 'al', 'cst', '07732584351', 'mo', '07734396839', 'wast', 'basic', 'parisfre', 'loyal', 'ibh', '181104', 'incred', 'indian', 'cake', 'soire', 'toilet', '146tf150p', '27603', 'stolen', '139', '7zs', 'la', 'situat', '2wu', '260305', '25f', 'chg', 'includ', 'style', 'slave', 'j89', 'funni', '12hour', 'tonit', 'chatter', '30apr', '30th', '80155', '41782', 'toward', 'sofa', '449071512431', '285', 'internetservic', '1minmobsmor', '150ppmpobox10183bhamb64x', '211104', 'textcomp', 'celebr', 'text82228', 'legitimat', 'bootydeli', 'heavi', 'call2optoutj5q', 'la3', '28thfebt', 'ge', 'gentl', 'â¼120', '48922', 'coincid', 'gbp150week', 'less', 'bugi', 'lect', 'slept', '150pmsg2', '450pw', 'swap', 'john', 'stopcost', 'lkpobox177hp51fl', 'torch', '32000', 'txt82228couk', 'tuesday', 'k61', 'il', 'goalsteam', 'shirt', 'ship', 'bx526', '4txtã', '09099726553', '391784', 'longer', 'rgent', 'carli', 'hug', 'bother', 'fink', 'txtstar', 'clubsaisai', '83222', 'izzit', 'spent', 'lovabl', '84', '84025', '09071517866', '18ptxt', '3680offer', 'hiya', 'chat80155', 'rodger', 'lmao', '32f', 'lnli', 'subsequ', 'box245c2150pm', 'freenokia', 'sexiest', 'boss', '400min', 'brows', 'insur', 'comput', 'troubl', '40', 'helplin', 'blow', 'south', '24m', 'bt', 'yet', 'made', 'break', 'instruct', 'fav', 'survey', 'connect', 'ignor', 'qualiti', 'chase', 'ten', 'packag', 'class', '08081263000', '08701752560', '08448714184', '29100', 'sun0819', 'workin', '2ez', 'pobox11414tcrw1', 'surf', 'po19', 'naughti', 'lowcost', 'polo', 'hang', 'system', 't91', 'practic', 'adam', '24', 'pray', 'egg', 'kb', 'svc', 'prefer', 'cuz', 'wherev', 'shd', 'customersqueri', 'prescripiton', '08714712394', 'chik', 'jsco', 'shortcod', 'eatin', 'wood', '50ã', 'nasdaq', 'e14', 'awak', 'name2', 'jeri', 'buck', 'name1', 'earth', '08707808226', 'hate', '08708800282', 'potter', 'babygoodby', '2667', 'slo', 'drvgsto', 'wun', 'yoga', 'yiju', 'soundtrack', 'dint', '40411', 'imma', 'howz', 'stdtxtrate', '42810', 'stewarts', '07808247860', 'discuss', 'yay', 'appreci', '447797706009', 'alertfrom', 'stock', '0784987', '0796xxxxxx', 'anymor', 'anybodi', '07123456789', 'ami', 'id1b6a5ecef91ff937819', 'ou', 'âªv', '0089', 'spoke', 'cancer', 'hurri', '02070836089', 'dey', '3xx', 'dick', '373', 'optin', '060505', '061104', 'depend', 'opinion', 'oop', 'argument', 'xxuk', 'stop2', 'wwwldewcom1win150ppmx3age16subscript', 'internet', 'dollar', 'wwwtcbiz', 'subscriptn3gbpwk', 'dontcha', 'wwwphb1com', 'success', 'suck', 'nick', 'dointerest', 'wwwidewcom', 'skillgam', '2kbsubject', 'dead', 'www80488biz', 'plenti', 'isnt', 'netvisionukcom', 'wwwtklscom', 'cell', 'hop', '2px', 'stoptxtstopã', '450p', 'aiyah', '47', 'snappi', 'snap', 'smsshsexnetun', 'cdgt', 'x29', 'ahead', 'holla', 'ph08700435505150p', 'ph08704050406', 'strongbuy', 'smartcal', 'phoenix', 'phone750', 'instead', 'present', 'whose', 'kickoff', 'theatr', 'quizclub', 'gee', 'saristar', 'except', '09050005321', '150ppermesssubscript', 'lem', '8th', 'mat', '09057039994', '09058091870', 'gbp5month', 'gbp', 'boo', 'letter', 'explos', 'version', 'tms', '89105', '09058095107', '150perweeksub', 'tiger', 'tick', 'vomit', 'pushbutton', 'global', '08719180219', 'cmon', '08719899229', '9yt', '9th', 'thnk', 'wa14', 'w1j', 'pussi', 'queri', 'throw', 'mei', 'cro1327', 'meh', 'thru', 'medic', 'tht', 'coffe', 'evng', 'facebook', 's89', 's3xi', '85233', 'ttyl', 'unless', 'bloombergcom', 'black', '09065989180', 'bloomberg', 'relat', 'relax', 'floppi', 'remain', 'fgkslpopw', 'filth', '09066361921', 'txtno', 'lord', '83332pleas', 'firsttrue180430jul05', '09094100151', 'loverboy', 'resent', 'refundedthi', 'tscs08714740323', 'rwm', 'roww1j6hl', 'bold', '8000930705', 'uâ', 'reader', 'real1', '09061701939', '80122300pwk', '09061743811', 'tough', '09061790121', 'fgkslpo', 'frm', '09063442151', 'm60', '0906346330', 'complementari', '100psms', 'forev', '09064018838', 'unsecur', '195', 'vri', 'landlineon', 'sextextukcom', '1stchoicecouk', 'water', 'wer', '68866', '1month', 'tea', '6hl', 'guid', '6230', 'goodi', 'accommod', 'bbc', 'gsex', '08715203652', '69876', 'wc1n', 'weak', 'profession', 'settl', 'self', 'mobno', '6669', '1winaweek', 'weather', 'prizeawait', 'webeburnin', 'box61', 'l8r', 'granit', 'sens', '1winawk', '08715203028', '69988', '20m12aq', 'ban', '1er', 'golddigg', 'wana', 'trip', 'day', 'hour', 'na', 'brought', 'suffici', 'anim', 'suppli', 'privaci', 'hardcor', 'idiot', '26th', 'hockey', 'benefit', '2morro', 'movi', '2wks', 'old', 'wkend', 'amaz', 'fit', 'alon', 'lion', 'gossip', 'drive', 'king', 'due', 'bear', 'yo', 'brother', 'request', 'address', 'offic', 'part', 'horribl', 'emc1couk', 'bodi', 'broke', 'nyusa', 'inch', 'hunk', 'kingdom', 'finest', 'enemi', 'fifa', 'bare', 'kalli', 'fyi', 'chines', 'ar', 'g696ga', 'discreet', 'keyword', 'delet', 'chgs', 'greet', 'bluetoothhdset', 'band', 'mrt', 'img', 'compens', 'kl341', 'kerala', 'll', 'msgrcvd18', 'hv', 'cine', 'breathe1', 'cartoon', 'flat', 'green', 'fullonsmscom', 'kill', 'customercar', 'campus', 'hottest', 'libertin', 'limit', 'bblue', 'doubletxt', 'doublemin', 'boston', 'miracl', 'nigeria', 'clock', 'avoid', 'everybodi', 'iã', 'ate', 'irrit', 'batteri', 'code4xx26', 'no165', 'embarass', 'decis', 'attend', 'law', 'no83355', 'chap', 'ive', 'charact', 'buzz', 'aunti', 'box139', 'getzedcouk', 'bx', 'latr', 'ish', 'messagethank', 'bcm1896wc1n3xx', 'champney', 'messagestext', 'messageit', 'dozen', 'help08714742804', 'interview', 'natali', 'ba128nnfwfly150ppm', 'lastest', 'hook', 'gotbabescouk', 'bf', 'model', 'notifi', 'express', 'cold', 'dob', 'bookmark', 'armand', 'num', 'lick', 'argu', 'nvm', 'lie', 'dizze', 'deep', 'boost', 'dartboard', 'ctxt', 'goodnight', 'asleep', 'cred', 'la32wu', 'googl', 'matur', 'matter', 'bun', 'marley', 'call2optout4qf2', 'build', 'insid', 'crazyin', 'nokia6650', 'budget', 'nookii', 'outgo', 'orchard', 'pongal', 'vid', '84122', '09058097218', '09058097189', 'aiyo', 'sleepingwith', '10th', '83110', 'thedailydraw', '0844', '08448350055', '09058094507', 'prod', 'sunday', 'process', '08450542832', 'wors', '82324', 'rip', '08702490080', '08702840625comuk', '81151', 'prizeswith', '08704439680ts', 'agreen', '69101', '526', 'trebl', 'aberdeen', 'textoper', 'wwwtxttowincouk', 'urgnt', '100txtmth', 'wwwsmsacunatalie2k9', 'wwwshortbreaksorguk', 'wwwrtfsphostingcom', 'sparkl', 'simpson', '861', 'alex', 'wwwldewcom', 'wwwgambtv', 'peac', 'rem', 'trial', '09061743810', 'wwwcomuknet', 'report', 'stereophon', 'wwwclubzedcouk', 'wwwclubmobycom', '09061701461', 'rodds1', 'wnt', '44', 'ru', '80086', '08714712379', 'pple', 'sight', 'pobox365o4w45wq', '45', '08715203685', '7732584351', '79', 'sigh', '08718726971', '150pmtmsg', '2mrw', 'advic', 'posh', '150pmt', '150pmsgrcvd', '2optoutd3wv', 'advanc', '08717509990', 'polytruepixringtonesgam', 'web2mobil', 'stroke', 'savamobmemb', 'white', 'piss', 'social', 'stopc', 'romcapspam', 'age16150ppermesssubscript', '09050000555', '80488biz', 'shuhui', 'tonex', 'voucherstext', 'presenc', '12price', '220cm2', 'prepay', 'plane', 'prepar', 'vu', 'predict', 'planettalkinstantcom', '131004', 'scare', '7250', '08719899217', 'acwicmb3cktz8r7', '08712402972', 'spell', '08717890890ã', 'ymca', '97n7qp', 'y87', 'txt250com', 'tt', 'tddnewslett', 'uni', '3qxj9', '9ae', '07801543489', '09066368753', 'page', '100603', 'xxxxxx', '09066358361', 'txtx', 'tcllc', '62220cncl', 'reali', '07821230901', '07808', 'spjanuari', '20f', 'skillgame1winaweek', 'yes165', '09094646899', 'rd', '02072069400', 'sunni', 'receivea', 'skype', '09065174042', 'xnet', 'panason', '21m', 'twice', 'racal', '2006', '89555', 'ray', '2025050', '0121', 'ym', 'give', 'next', 'peopl', 'bill', 'minut', 'keep', 'star', 'along', 'tour', 'cheaper', 'august', 'dine', 'xxxxx', 'wks', '21', 'nichol', 'in2', 'dial', 'feelin', 'polic', 'short', 'row', 'concert', 'die', 'ta', 'last', 'hungri', 'total', 'true', 'best', '09094646631', 'possess', 'lift', 'waitin', 'sura', 'mandi', 'rayman', 'consid', 'lik', '09041940223', 'subscrit', 'fm', '09095350301', '09050000301', 'rang', '8027', 'rather', 'ach', 'math', 'ador', 'itcould', '08717895698', 'fool', 'twink', 'stylish', 'er', 'sup', 'mother', 'ppt150x3normal', 'backdoor', 'jazz', 'magic', '88877', 'rule', 'bailiff', 'add', 'mumtaz', 'map', 'bak', 'bob', 'spoken', 'escap', 'wah', 'rush', 'activ8', '087187272008', 'chatlin', 'erot', 'ran', 'w1t1ji', 'tyler', 'centr', 'hella', 'ron', 'highest', '4th', 'sullivan', 'replac', 'meetin', '505060', 'behind', '09061701444', 'research', 'freeentri', 'cafe', 'blank', 'hill', 'cabin', 'vat', 'suggest', 'transact', '83738', 'vco', '8714714', 'public', 'height', 'freak', 'beer', '500000', '09061790125', 'puriti', 'concentr', 'lucozadecoukwrc', 'fb', 'lucozad', 'blackberri', 'push', 'fraction', 'bye', '09065394973', 'fifteen', 'urn', 'mell', 'pull', 'sugar', 'bay', 'creat', '290305', 'ukp', 'queen', 'acc', 'maximum', 'exhaust', 'convinc', '125', '946', 'belovd', 'reciev', 'bar', '09050001808', '09050000928', 'print', 'accident', 'it', 'cream', 'role', 'ride', 'confid', '09050280520', 'modul', 'skin', 'mite', 'track', 'cal', 'loss', '09058094594', 'barri', 'm95', 'hell', 'frndship', 'cook', 'belli', 'mobstorequiz10ppm', 'expens', 'site', 'umma', 'vikki', 'bcm', 'amt', 'confus', 'paus', 'step', 'nyc', 'sourc', '1million', 'space', 'golf', 'housemaid', 'inclu', 'april', 'wwwtelediscountcouk', 'assum', 'somethin', 'jock', 'appoint', 'pig', 'ecstaci', 'often', 'pix', 'idk', 'cbe', '630', 'deepest', 'appar', 'jiu', 'xt', 'past', '449050000301', 'box403', 'pilat', 'pie', 'def', 'hotmix', 'lab', 'wtf', '69911', 'air', 'cat', 'wud', 'gn', 'now1', 'wrc', 'english', 'l8er', 'theori', 'drivin', 'dri', 'nxt', 'arm', 'impress', 'talent', 'shout', 'dress', 'landmark', 'imagin', 'dps', '530', 'darkest', 'nw', 'askin', 'bowl', 'hr', '71', 'cc100pmin', 'aftr', 'ki', 'weâ', '3mobil', 'general', 'bright', 'graviti', 'tat', 'technic', 'coin', 'splashmobil', '08715205273', 'leona', 'didt', 'grl', 'jesus', 'pobox45w2tg150p', 'ave', 'stress', 'yrs', 'dictionari', 'amount', 'yun', 'derek', 'hvae', 'church', 'hunni', 'taunton', 'weird', 'jess', '151', 'thursday', 'aiya', 'sexual', 'hack', 'olymp', '61200', 'le', 'sha', '08712402902', 'scalli', 'govtinstituit', 'termsappli', '08712466669', 'pleasur', '730', 'oni', 'captain', 'spk', 'affair', 'alrit', 'neo69', 'teletext', 'yan', 'whether', 'deltomorrow', 'kidz', 'sheet', 'allah', 'stay', 'card', 'luv', 'satisfi', 'airport', 'str', 'away', 'faster', 'dirti', 'season', 'marri', 'pink', 'smash', 'hero', 'suzi', 'accord', 'june', 'shi', 'cast', 'agent', 'repeat', 'error', 'tom', 'among', 'various', 'symbol', 'sender', 'sticki', 'zoe', 'lost', 'secur', 'tip', 'communiti', 'girl', 'valentin', 'check', 'wine', '20', 'arrang', 'tomorrow', 'train', 'seem', 'chicken', 'lectur', 'leg', 'maintain', 'lido', '5wq', 'major', 'legal', '89123', '14thmarch', 'shame', 'happend', 'kano', 'footprint', 'toll', 'thts', 'forc', 'born', 'temp', 'bud', 'leadership', 'childish', 'boat', 'templ', 'recognis', 'swtheart', 'bmw', 'jealous', '5th', 'grand', 'shesil', 'geeee', '7th', 'tattoo', 'tue', 'tuition', 'maga', 'guilti', 'shock', '5p', 'group', 'salari', 'lifpartnr', 'shija', 'buff', 'teacher', 'sang', 'tast', 'itâ', 'macho', 'tm', 'tog', 'todaysundaysunday', 'teenag', '1000call', '80', 'shoot', 'reboot', 'tight', 'scari', 'bro', 'brilliant', 'realis', 'gorgeous', 'shut', 'forevr', 'clos1', 'box1146', 'china', 'bloodsend', 'takin', 'rich', 'shove', 'jada', 'havnt', 'kusruthi', 'shorter', 'requir', 'cn', '1225', 'comedi', 'swim', 'repair', 'chillin', 'thatâ', 'screen', 'sweetest', 'resum', 'lacsthat', 'trackmarqu', '50award', 'responcewhat', 'lacsther', 'loud', 'haiz', 'gmgngegn', 'loos', 'club4', '10ppm', 'bloo', 'blood', 'sen', 'common', 'blake', 'tripl', 'terribl', 'thirtyeight', 'bottom', 'gim', 'lvblefrnd', 'form', 'ham', 'bottl', 'birth', 'club4mobilescom', 'tessypl', 'birla', 'hai', 'three', 'seven', '87070', 'handl', 'ref9280114', 'jstfrnd', 'roommat', 'journey', 'brain', '2703', 'jog', 'lock', 'blah', 'rofl', 'thangam', 'gona', 'roger', 'jason', 'tgxxrz', 'textsweekend', 'regret', '6th', 'shortag', 'forum', 'bstfrnd', 'thatã', 'ptbo', 'cud', 'holidayso', 'wwworangecoukow', 'wa', 'alcohol', 'dear1', '4get', '08719839835', 'essenti', 'soup', 'wall', 'wallpap', 'ppl', 'wwwbubbletextcom', 'csbcm4235wc1n3xxcallcost150ppmmobilesvari', 'wwwb4utelecom', 'walmart', 'warn', 'arng', '2morrow', 'perform', 'enuff', 'b4u', 'dayu', 'wc', '300603t', '09111032124', 'call2optouthf8', 'sore', 'w8in', '30s', 'w4', 'vodka', 'dislik', 'violenc', 'philosophi', 'display', 'slice', 'distanc', 'chain', 'exe', 'vipclub4u', 'california', '3rd', 'xuhui', 'prey', 'death', 'xavier', '3100', 'morphin', 'officeunderstand', 'motiv', 'appt', 'intellig', 'wwwsantacallingcom', 'slipper', 'ikea', 'donã', 'prebook', 'cuddl', 'period', 'vijay', 'nan', 'softwar', 'wind', 'window', 'effect', 'ag', 'dai', '448712404000', 'solv', '3000', 'wise', 'some1', 'damn', 'atlanta', 'wquestion', 'danc', 'nimya', 'nimyapl', 'echo', 'calls150ppm', 'ai', 'nitro', '08701213186', 'easier', 'wn', 'dare', '2wt', 'song', '08712402050', 'honeybe', 'whos', 'infern', 'weigh', 'adventur', 'strike', 'avent', 'natuit', '08717168528', '4882', 'aiyar', 'ds', 'welp', 'availa', 'arrow', 'note', 'aint', 'wet', 'art', 'auto', 'pobox12n146tf150p', 'aunt', 'elsewher', 'sooner', 'cutefrnd', 'ws', 'affect', '08712404000', 'soft', 'moji', '4msgs', 'fear', 'uptown', 'filthyguy', 'bein', '9996', 'hesit', 'qatar', 'fightng', 'hun', 'behav', 'iam', 'univers', 'oreo', '09064019014', 'unsold', 'ure', 'favour', '07046744435', 'urgentbut', 'diet', 'urgentlyit', 'fee', 'mess', 'url', 'messageno', 'american', 'februari', 'diff', 'allow', 'messeng', 'skill', 'size', 'orno', 'oru', 'twelv', 'ranjith', 'despar', 'outta', 'floor', 'randi', 'maneesha', 'develop', '2channel', 'spoil', 'di', 'flash', 'yummi', '4utxt', 'rajipl', 'best1', 'depress', 'marsm', 'fish', 'rais', 'railway', 'ubi', '09077818151', 'italian', '09071512432', 'ukmobiled', 'que', 'favourit', 'ahmad', 'favor', 'mmm', 'missin', '07099833605', 'crab', 'crack', '09058095201', 'proof', 'bat', 'mk45', 'cramp', 'intro', 'yetund', 'spl', 'cardiff', 'mmmm', 'sleepingand', 'promo', 'answer', 'onward', 'explain', '09058094565', 'anti', 'prolli', 'ic', 'calcul', 'program', 'crash', '09058094454', 'spring', 'prospect', 'hip', 'utter', 'abi', 'farm', 'bros', 'ipad', 'bcum', 'milk', 'aathilov', 'dificult', 'iq', 'fathima', 'psychic', 'alwi', 'count', 'yogasana', 'courag', 'aah', 'mgs', 'annonc', 'opportun', 'yor', 'sec', 'sent', 'eve', 'scotland', 'sn', 'burn', 'jst', 'continu', 'wale', 'begin', 'radio', 'smart', 'dure', '2morow', 'lone', 'tv', 'post', 'open', 'ton', 'europ', 'unit', 'held', 'drop', 'bank', 'christma', 'straight', 'yes', 'back', 'via', 'compani', 'us', 'cum', 'thur', 'fix', 'moan', 'vote', 'travel', 'littl', 'must', 'avail', 'dis', 'yesterday', 'friend', 'tape', 'gv', 'sweetheart', 'chip', 'chocol', 'tap', 'headin', 'tank', 'heard', 'habit', 'chees', '2geva', '2gthr', '2go', 'superior', 'christ', 'supervisor', 'helloooo', '2exit', '3d', 'heri', 'sppok', 'carolin', 'chrgd', 'herlov', 'charl', 'hes', 'hundr', 'hex', 'sux', 'sunlight', 'chechi', 'heater', 'headach', 'sum1', 'carri', 'half8th', 'huge', 'stick', 'castor', 'steve', '25', 'happili', 'stuf', 'tabl', 'hostel', 'tablet', 'hon', 'tag', 'honest', 'sweeti', 'handsom', 'caught', 'stranger', 'strang', 'tahan', 'stomach', 'taken', 'storm', 'hallaq', '2waxsto', 'center', 'stupidit', 'swt', 'cherish', 'suffer', 'stadium', 'staff', 'challeng', 'chill', 'stalk', 'cha', 'hrishi', 'hahahaus', 'hppnss', 'starv', 'sudden', 'swiss', 'status', 'sucker', 'howard', 'stayin', 'steal', '2marrow', 'switch', '2moro', 'havenã', 'fo', 'gudnit', '08717205546', 'west', 'emerg', 'wesley', 'welltak', 'en', 'curri', 'curious', 'elect', 'engag', 'enough', 'entertain', 'weasel', 'wave', 'wate', 'electr', 'elabor', 'ese', 'edison', 'eastend', 'wkent150p16', 'eaten', 'wiskey', 'wishin', 'dan', 'edward', 'whn', 'ee', 'eek', 'wisdom', 'wipro', 'wifehow', 'eight', 'epsilon', 'esplanad', 'gudk', 'vega', 'violat', 'crap', 'expos', 'vewi', 'vettam', 'fab', 'vday', 'violet', 'faggi', 'vava', 'faith', 'fal', 'valuabl', 'vagu', 'craziest', 'exet', 'eta', 'everywher', 'ethreat', 'wahe', 'eveb', 'crore', 'vth', 'cricket', 'evn', 'execut', 'creepi', 'creep', 'creativ', 'evrydi', 'viva', 'visitor', 'east', 'earn', 'ear', 'distract', 'yell', 'yeh', 'yck', 'delay', 'dehydr', 'degre', 'yarasu', 'delhi', 'divis', 'defeat', 'deeraj', 'xxxx', 'dobbi', 'dock', 'disclos', 'yellow', 'woken', 'diamond', 'deus', 'devour', 'desir', 'dhina', 'desert', 'yuo', 'deposit', 'dem', 'didnâ', 'didnã', '07090201529', 'ding', 'dippeditinadew', 'yesh', 'deepak', 'xam', 'wyli', 'daysh', 'driver', 'daytim', 'drpd', 'drunk', 'drunken', 'dt', 'wt', 'doggi', 'dubsack', 'datoday', 'dumb', '08701237397', 'woot', 'women', 'wuld', 'drinkin', 'dreamsmuah', 'dealer', 'dr', 'wwwfullonsmscom', 'dough', 'doubt', 'dearslp', 'dorm', 'donâ', 'wwwregalportfoliocouk', 'wwwringtonekingcouk', 'dokey', 'wwwtextcompcom', 'wwwtxt2shopcom', 'dedic', 'vaazhthukk', 'usualiam', 'cough', 'girlfrnd', 'thread', 'thm', 'gf', 'gibb', 'cocacola', 'gin', 'gist', 'throat', 'coat', 'coast', 'thi', 'thgt', 'cme', 'thesi', 'threw', 'ths', 'gang', 'tming', 'garbag', 'gari', 'toa', 'gastroenter', 'tmrw', 'gautham', 'tiwari', 'genius', 'tissco', 'tis', 'tirupur', 'tirunelvali', 'tih', 'geeeee', 'gm', 'theme', '1hr', 'greatest', 'gram', 'clark', 'grandma', 'teeth', 'grave', 'tee', 'tech', 'cloth', 'citizen', 'groovi', 'ground', 'tayseer', 'taylor', 'taxi', 'grahmbel', 'grace', 'gpu', 'telphon', 'gotten', 'tension', 'clever', 'terrif', 'goodnoon', 'goodnit', '1minmoremobsemspobox45po139wa', 'goodfriend', 'cliff', 'goodenviron', 'thank', 'thanksgiv', 'closer', 'garag', 'galileo', 'usc', 'fli', 'control', 'uh', 'flaki', 'flame', '09099725823', 'constant', '09099726429', 'fire', 'flip', 'flow', 'conform', 'tulip', 'fond', 'tsunami', 'convert', 'ummmmmaah', 'tomarrow', 'field', 'usb', 'fave', 'favorit', 'feet', 'fell', '09065171142stopsms08718727870150ppm', 'unintent', 'fineabsolut', 'unhappi', 'unemploy', 'underwear', 'unconsci', 'financ', 'unbeliev', 'foot', 'truffl', 'footi', 'toopray', 'compar', 'fring', 'toshiba', 'commerci', 'tortilla', 'front', 'tool', 'foreign', 'combin', 'funer', 'furnitur', 'color', 'tomeandsaid', 'gain', 'trade', 'freez', 'transfr', 'transport', '10am', 'freedom', 'tree', 'fraud', 'fran', '1030', 'four', 'concern', 'truck', 'format', 'conduct', 'forgiven', 'forgiv', 'spoon', 'calld', 'husband', 'block', 'lv', 'lyf', 'lyfu', 'birthdat', 'reduc', 'redeem', 'recoveri', 'reckon', 'maangalyam', 'mac', 'recharg', 'biola', 'billion', 'mad', 'madam', 'refil', 'reg', 'lush', 'blanket', 'lotwil', 'bleh', 'respect', 'lousi', 'lov', 'lovem', 'reserv', 'regard', 'blame', 'low', 'lower', 'loxahatche', 'lttrs', 'regular', 'reaction', 'mahal', 'main', 'beg', 'bell', 'medicin', 'mel', 'melt', 'puttin', 'memori', 'mental', 'meanwhil', 'mention', 'purs', 'meow', 'mesag', '9ja', '9pm', 'measur', 'mcat', 'makin', 'marriag', 'mall', 'manda', 'bewar', '8am', 'bet', 'margaret', 'mas', 'mca', 'massag', '930', 'quiet', 'belov', 'mb', 'belong', '83435', 'restaur', 'kg', 'bloke', 'section', 'seat', 'lane', 'langport', 'languag', 'scroung', 'scratch', 'larg', 'scotch', '700', 'scold', 'laundri', 'scienc', 'schedul', 'lay', 'lag', 'sem', '69200', 'knee', 'shake', 'shahjahan', 'kit', 'bread', 'sever', 'knacker', 'brandi', 'sensit', 'brah', 'sentenc', 'kothi', 'kr', 'kthen', 'kudi', 'sathya', 'sarcast', 'sarasota', 'risk', 'lk', 'bluff', 'lo', 'lodg', 'rob', 'river', 'ringtonekingcouk', 'rp176781', 'rhythm', 'bloodi', 'lookatm', 'rg21', 'revis', 'return', 'blur', 'liter', 'sar', 'sac', 'booti', 'salon', '7ish', 'salam', 'sake', 'sacrific', 'lil', 'rtking', 'lili', 'rumour', 'rum', 'ruin', 'rub', 'lip', '9t', 'punish', 'messi', 'bedrm', 'aris', 'peni', 'nurungu', 'nuther', 'argh', 'pend', 'payoh', 'payment', 'paye', 'aproach', 'obvious', 'occupi', 'occur', 'approv', 'odi', 'alaipayuth', 'aka', 'perhap', 'petrol', 'agalla', 'nit', 'agre', 'pickl', 'phne', 'ashley', 'petey', 'noun', 'arun', 'northampton', 'airtel', 'nothin', 'permiss', 'arrest', 'algarv', 'patti', 'applic', 'os', 'although', 'panic', 'anniversari', 'anni', 'anna', 'pan', 'amongst', 'pap', 'andro', 'otsid', 'outag', 'ovul', 'andr', 'outstand', 'anot', 'oooh', 'pattern', 'okey', 'applebe', 'ofic', 'path', 'oic', 'apologis', 'apolog', 'aliv', 'anthoni', 'okok', 'okthenwhat', 'anywher', 'parti', 'anythin', 'paragon', 'atm', 'atmsm', 'nicenicehow', 'prizeto', 'base', 'profil', 'professor', 'prof', 'mojibiola', 'pro', 'monkey', 'abj', 'princ', 'accomod', 'mountain', 'mouth', 'prepaid', 'msging', 'batch', 'proper', 'ball', 'abil', 'becoz', 'million', 'aathiwher', 'mini', 'minimum', 'minnaminungint', 'proverb', 'properti', 'mis', 'misbehav', 'bck', 'miser', 'protect', 'propsd', 'act', 'mt', 'ni8swt', 'necklac', 'poem', 'aeronaut', 'avatar', 'ne', 'necessari', 'necessarili', 'ned', 'nap', 'aeroplan', 'audrey', 'audit', 'neither', 'plm', 'plaza', 'politician', 'nanni', 'actor', 'musthu', 'addi', 'addict', 'prabhai', 'prabha', 'mummi', 'pour', 'potenti', 'pool', 'postcard', 'admin', 'nagar', 'administr', 'admit', 'poop', 'shampain', 'despit', 'sleepin', 'impati', 'imag', 'busti', 'insha', 'bruv', 'inr', 'juici', 'itã', 'soul', 'busi', 'sorydarealyfrm', 'innoc', 'sorrow', 'iz', 'sori', 'jolt', 'jolli', 'jokin', 'canal', 'itwhichturnedinto', 'spare', '4jx', 'broken', 'buzi', 'buyer', 'ideal', 'brotha', 'shitload', '5min', 'slot', 'speechless', 'kadeem', 'spile', 'shld', 'butt', 'instant', 'browni', 'shoppin', 'sip', 'shu', 'slip', 'inning', 'invnt', 'callin', 'jen', '4a', 'jean', 'inde', 'jd', 'jan', 'janinexx', 'signific', 'infront', 'snowman', 'japanes', 'snog', 'silenc', 'amus', 'indyarockscom', 'buffet', 'incid', 'sib', 'jia', 'btw', 'sinco', 'joanna', 'jiayin', 'imposs', 'buse', 'soo', 'si', '4d', 'smell', '4eva', 'jacket', 'jerri', 'simpler', 'callsmessagesmiss', '430', '5month', 'specif', 'slight', 'slap', 'iron', 'intent', 'slide', 'sleepwel', 'cappuccino', 'career', '5pm', 'kettoda', 'careswt', 'isnâ', 'kavalan', 'kegger', 'iouri', 'shine', 'broad', 'keralacircl', 'ke', 'shelf', 'icicibankcom', 'invest', 'hyde', 'kay', 'dear', 'howev', 'press', 'india', 'great', 'id', 'surpris', 'wife', 'mega', 'channel', 'pack', 'promot', 'easter', 'clair', 'virgin', 'telephon', 'kick', 'definit', 'save', 'believ', 'burger', 'street', 'pay', 'park', 'balanc', 'speed', 'random', 'instal', 'dream', 'photo', 'near', 'type', 'passion', 'feb', 'round', 'listen', 'gettin', 'remind', 'whi', 'upto', 'romant', 'login', 'helen', 'hide', '2u', 'skip', 'lookin', 'releas', 'tb', 'email', 'deal', 'somebodi', 'use', 'warm', 'st', 'normal', 'done', 'cedar', 'audiit', 'acknowledg', 'bambl', 'cutest', 'achiev', 'crickit', 'cribb', 'cstore', 'afew', 'atroci', 'attent', 'afternon', 'afterward', 'atten', 'bandag', 'attach', 'bang', 'cres', 'againcal', 'accordinglyor', 'accordin', 'bani', 'dajst', 'dammit', 'attitud', 'dabook', 'dabbl', 'accumul', 'afghanistan', 'daalway', 'daal', 'crisi', 'afford', '2hrs', 'achan', 'cyclist', 'affidavit', 'attractioni', 'attribut', 'cutter', 'cuti', 'attract', 'ava', 'aust', 'addressu', 'chad', 'cupboard', 'centuri', 'cer', 'cultur', 'awkward', 'backward', 'aww', 'awww', 'axi', 'bac', 'babysit', 'babyjontet', 'ayn', 'ceri', 'acnt', 'adjust', 'cttergg', 'ba', 'adi', 'ctter', 'cttargg', 'cts', 'baaaaaaaab', 'cthen', 'certain', 'ctargg', 'adewal', 'certif', 'ctagg', 'adress', 'crush', 'cuppa', 'badrith', 'ceil', 'balloon', '2nitetel', 'cabl', 'av', '2im', '2naughti', 'crowd', 'baller', 'actin', 'champlaxig', 'baaaaab', 'crucial', '2morrowxxxx', 'crucifi', 'champ', 'curtsey', 'availablei', 'avalarr', 'bakra', 'cali', 'baig', 'aveng', '4few', 'bagi', 'curfew', 'adsens', '4got', 'calicut', 'atleast', 'bridg', 'atlast', 'alritehav', '3optic', 'anythi', 'alot', 'anyplac', 'alreadysabarish', 'delici', 'carton', 'alrightokay', 'antelop', 'allo', 'answr', 'carso', '35p', 'demand', 'alsoor', 'alternativehop', 'capac', 'carryin', 'anythingtomorrow', 'allalo', 'dengra', '32323', 'appear', '3sentiment', 'deer', '3230', 'alian', 'apologet', 'canâ', 'apo', 'alivebett', '330', 'canã', 'apnt', 'cap', 'aphexã', 'defo', 'apeshit', 'ape', 'allahrakhesh', 'alwa', 'annoyin', 'ali', 'amrca', 'careinsha', 'carlin', 'andrewsboy', 'describ', '3day', 'andor', 'deserv', 'design', 'anderson', 'amplikat', 'anand', 'analysi', 'desk', 'amrita', '0125698789', 'ana', 'desper', 'amx', 'derp', '3maruti', 'annoy', 'ambrithmaduraimet', 'dent', 'dental', 'carpark', 'dentist', 'cardin', '3mile', 'depart', 'ambiti', 'anjola', 'der', 'dessert', 'amk', 'anji', 'ammarakheshqatar', 'ammo', 'careabout', 'angel', 'amor', 'appi', 'appl', 'athom', 'aig', 'asia', 'ahhhh', 'das', 'ahold', 'ashwini', 'data', 'ahth', 'asda', 'callingforgot', 'ccna', 'caveboy', 'asa', 'air1', 'dawn', 'arul', 'cave', '2u2', 'daysso', 'ahhh', 'aslamalaikkum', 'arr', 'associ', 'athlet', 'astronom', 'dancin', 'astrolog', 'astound', 'dang', 'astn', 'asther', 'assist', 'aspect', 'danger', 'dapleas', 'agenc', 'agidhan', 'agocusoon', 'asshol', 'darker', 'assess', 'daysã', 'ajith', 'cantdo', 'decad', 'dearrakhesh', 'camp', 'arabian', 'deartak', 'arab', 'dearwith', 'aquarius', 'apt', 'camri', 'deari', 'canada', 'approx', '3u', 'deck', 'canlov', 'declar', 'algorithm', 'deduct', 'archiv', 'albumquit', 'arpraveesh', 'albi', 'aroundn', 'ak', 'db', 'arnt', 'alaikkumprid', 'dd', 'armenia', '420', 'arithmet', 'arent', '415', '40mph', 'deam', 'album', 'casualti', 'argentina', 'aretak', 'dearer', 'callon', 'bbdthts', 'banter', 'browser', 'collaps', '1405', '140', 'bruce', 'brum', 'boatin', 'chiong', 'board', 'bluray', '5ish', '130', 'com', 'comb', 'chinki', '215', '128', '5ful', 'bsn', 'bsnl', 'browsin', 'chk', 'computerless', 'boggi', 'boob', '7am', 'chore', 'chord', '7mahav', 'bong', '7oz', '7pm', '7romant', 'colani', 'brown', 'bone', '7shi', 'bomb', 'bollox', 'coldheard', 'bold2', '5iã', 'bognor', '5digit', '1230', 'cometil', 'comfey', 'complaint', 'buddi', 'bleak', 'buen', 'blastin', 'chikkuwat', 'complex', 'chikkusimpl', 'chikkuk', 'chikkuil', '850', 'compliment', 'compofstuff', 'comprehens', 'blacko', '515pm', 'blackand', 'compromis', 'compulsori', 'complain', 'complac', '230ish', '545', 'comfort', 'chinchilla', 'comingdown', '1205', 'comingtmorow', 'command', '120', '830', '532', 'childporn', 'chillaxin', '1148', '1120', 'blog', 'companion', 'btwn', 'compass', 'blessget', 'brotherâ', '730ish', 'christian', 'boyf', '63mile', '645', 'bras', 'brin', '650', '67441233', 'brainless', 'braini', 'clip', 'braindanceã', '5terror', 'bpo', '5sankatmochan', 'cl', 'boyi', 'citylink', 'closebi', 'boyfriend', '1lemondayno', 'brat', 'brave', 'clearer', '60400thousadi', 'bribe', 'breezi', 'clas', 'breez', '5wkg', 'clash', 'bridgwat', 'breakin', 'breakfast', 'brb', 'classmat', 'clarif', 'cld', 'brighten', 'breadstick', '1u', '1tulsi', '1thingi', '1im', 'brisk', 'coimbator', 'cloud', 'coax', 'chuckin', '180', 'coccoon', 'christmassi', 'cochin', 'brolli', '5mls', '1680', 'bot', 'cocksuck', 'coco', 'broth', '725', 'borrow', 'bornpleas', '1526', 'coher', 'borderlin', '6time', 'boughtã', 'broadband', '6ish', 'clover', '1hanuman', '1cup', '6cruel', '1childish', '1appledayno', 'brison', '6hrs', '6miss', 'boundari', '6pm', '6ramaduth', 'bristol', 'cin', 'ciao', '1843', 'coach', '6romant', '101mega', '1010', 'bao', 'beat', 'cougarpen', 'bead', '4ward', '2daylov', 'coulda', 'abbey', 'bcz', 'abeg', 'chastiti', 'abel', '4w', 'countin', 'buzzzz', 'countinlot', 'bw', 'coupla', 'charm', 'charli', '4ui', 'aaooooright', 'aaniy', '863', 'bec', 'busetop', 'beforew', 'corpor', 'beforehand', 'corrupt', 'beerr', 'beerag', '9funni', 'beendrop', 'beeen', '2b', '2bajarangabali', '2bold', 'busyi', 'butther', 'a30', 'aa', 'becz', 'button', 'court', 'courtroom', 'bcaz', 'cousin', 'abouta', 'abov', '4pavanaputra', 'bã', 'absenc', 'absolut', 'barrel', 'barolla', '4o', 'barm', 'abstract', 'aburo', 'abus', 'bari', 'barcelona', 'chapter', 'crckt', 'accent', 'accentur', 'abnorm', 'bâ', 'bash', 'bbd', 'bc', 'coveragd', 'cozi', 'bbq', 'cozsomtim', 'cps', 'cr', 'clarifi', '4rowdi', 'basket', 'bawl', 'batsman', 'byatch', 'batchlor', 'craigslist', '2getha', 'cram', 'basketbal', 'cope', 'beggar', 'cooper', 'bevieswaz', 'billi', 'chequ', '50s', 'configur', 'careumma', 'bigger', 'bunch', 'confirmdeni', 'biatch', 'bian', 'bhayandar', 'chef', 'bfore', 'bunker', 'consensus', 'consent', 'cheeto', 'bffs', 'conserv', 'bilo', 'bimbo', 'bin', 'chic', 'bk', 'chikkuali', 'bishan', 'built', 'conclus', '24th', 'conditionand', 'chick', 'bull', '515', '255', 'conect', 'bullshit', 'cheyyamo', 'chex', 'confer', 'chest', 'cherthalain', 'cheesi', 'burden', '4year', 'consist', 'burial', '945', '95pax', 'checkup', 'checkbox', 'burnt', 'burrito', 'convincingjust', 'belliger', '96', 'bellearli', 'cooki', 'bus822656166382', 'cheat', '98321561', '9am', '9decent', 'begun', 'coop', 'belt', 'convers', 'conveni', '8lovabl', 'beverag', 'bettersn', '8attract', 'betta', 'beth', '8hr', 'contain', '8lb', 'contin', 'bend', 'besid', 'burgundi', 'cheeri', '8o', 'benni', '924', 'beneficiari', 'beneath', 'bike', 'å½ã', 'destin', 'reltnship', 'rout', 'rounder', 'rough', 'roll', 'robinson', 'roast', 'ritten', 'rinu', 'rimac', 'riley', 'rightio', 'ridden', 'riddanc', 'rice', 'rhode', 'revers', 'reunion', 'retir', 'retard', 'restrict', 'restock', 'resolv', 'reslov', 'resiz', 'resid', 'reset', 'resend', 'reppurcuss', 'rencontr', 'royal', 'rsi', 'rto', 'salad', 'sariyag', 'sari', 'sarcasm', 'sapna', 'sane', 'sandiago', 'samus', 'sambarlif', 'samantha', 'samachara', 'salt', 'salmon', 'salespe', 'saibaba', 'rubber', 'safeti', 'saeed', 'sack', 'sachin', 'ryder', 'ryan', 'rvx', 'rv', 'rupaul', 'runninglet', 'rummer', 'rumbl', 'rugbi', 'remembr', 'reloc', 'punch', 'religi', 'ramen', 'raksha', 'rakhesh', 'rajnik', 'rajitha', 'rajini', 'raja', 'raj', 'raiden', 'rahul', 'raglan', 'rael', 'radiat', 'race', 'ra', 'quizz', 'quiteamuz', 'quarter', 'qing', 'qi', 'qet', 'qbank', 'qatarrakhesh', 'puzzl', 'puzzel', 'purpl', 'pure', 'pura', 'puppi', 'ranju', 'rape', 'rat', 'recess', 'reliev', 'reliant', 'relationship', 'reject', 'registr', 'refund', 'refresh', 'reflect', 'reffer', 'referin', 'recycl', 'recreat', 'recount', 'recept', 'ratio', 'rebtel', 'rebel', 'reassur', 'rearrang', 'reappli', 'realiz', 'react', 'reach', 'rdi', 'rcbbattl', 'rayan', 'rawr', 'raviyog', 'sashimi', 'satan', 'sathi', 'sayask', 'sleepi', 'slack', 'slaaaaav', 'skyve', 'skye', 'skirt', 'skint', 'skinni', 'skateboard', 'sivatat', 'sittin', 'sitter', 'sitll', 'sirjii', 'singapor', 'sindu', 'simul', 'silver', 'silli', 'siguviri', 'signin', 'signal', 'sicomo', 'sian', 'shun', 'shud', 'shrub', 'shrek', 'shouldnâ', 'sleepsweet', 'slipperi', 'slove', 'snicker', 'sonetim', 'sonathaya', 'somtim', 'somon', 'somewhr', 'sometimerakhesh', 'somerset', 'someplac', 'sold', 'soladha', 'soc', 'snowboard', 'snowbal', 'snervous', 'slurp', 'sneham', 'snd', 'snatch', 'snake', 'smsing', 'smooth', 'smokin', 'smiley', 'smidgin', 'smeon', 'smear', 'smaller', 'smack', 'shoulder', 'shoul', 'shoreth', 'se', 'senor', 'semiobscur', 'semi', 'selfless', 'selfish', 'selfindepend', 'sehwag', 'seh', 'sef', 'seeno', 'seek', 'secretari', 'secondari', 'sdryb8i', 'sensibl', 'sday', 'sd', 'scrumptious', 'screwd', 'scrappi', 'scrape', 'scous', 'scorabl', 'scool', 'sceneri', 'scenario', 'scarcasim', 'sayi', 'sensesrespect', 'senthil', 'shore', 'shatter', 'shoranur', 'shopw', 'shoe', 'shitstorm', 'shitin', 'shite', 'shindig', 'shhhhh', 'shelv', 'shell', 'sheffield', 'shb', 'shave', 'shant', 'senthilhsbc', 'shanil', 'shakespear', 'shakara', 'shadow', 'shade', 'sh', 'sfirst', 'sfine', 'sez', 'seventeen', 'seri', 'serena', 'seper', 'punj', 'pump', 'nvq', 'oscar', 'panren', 'panick', 'pandi', 'panalam', 'palm', 'pale', 'pair', 'paint', 'painit', 'pai', 'padhegm', 'oyster', 'oyea', 'owo', 'owl', 'owe', 'ow', 'ovr', 'overh', 'overemphasiseor', 'overdos', 'overdid', 'overa', 'outreach', 'outrag', 'outl8r', 'outfor', 'outfit', 'outdoor', 'pansi', 'pant', 'panti', 'passport', 'penni', 'pendent', 'pei', 'pear', 'peach', 'paypal', 'payback', 'payasam', 'paul', 'patient', 'pathaya', 'pataistha', 'passthey', 'pase', 'paperwork', 'paru', 'partnership', 'particular', 'particip', 'parkin', 'park6ph', 'parco', 'parantella', 'paranoid', 'paragraph', 'parad', 'parachut', 'paracetamol', 'othr', 'ortxt', 'pudunga', 'organis', 'okvarunnathu', 'okor', 'okden', 'okday', 'okcom', 'oil', 'destini', 'oi', 'ogunrind', 'oga', 'ofsi', 'offlin', 'officethenampet', 'officestil', 'offc', 'ofcours', 'odalebeku', 'oclock', 'ocean', 'occas', 'oblising', 'object', 'obey', 'obes', 'obedi', 'oath', 'nã', 'nz', 'nydc', 'ola', 'olag', 'olav', 'ooh', 'organ', 'ore', 'orc', 'optimist', 'opposit', 'oppos', 'opportunitypl', 'opportunityal', 'opponent', 'opp', 'openin', 'ooooooh', 'oooooh', 'onword', 'olayiwola', 'onum', 'onlyfound', 'onlydon', 'onlybettr', 'only1mor', 'onionr', 'onedg', 'ondu', 'onam', 'olowoyey', 'olol', 'ollubut', 'oli', 'percent', 'percentag', 'perf', 'perfect', 'preview', 'prevent', 'pretsovru', 'pretsorginta', 'pretend', 'prestig', 'pressur', 'pressi', 'presnt', 'prescript', 'prescrib', 'prepon', 'prem', 'pre', 'prayr', 'prayer', 'prashanthettan', 'prasanth', 'prasad', 'prakesh', 'prakasamanu', 'prakasam', 'prais', 'practis', 'practicum', 'pract', 'prabu', 'pout', 'pouch', 'pride', 'priest', 'prin', 'progress', 'publish', 'pubcaf', 'psychologist', 'psychiatrist', 'pshew', 'ps3', 'ps', 'prsn', 'provinc', 'prop', 'proov', 'prone', 'prometazin', 'product', 'princegn', 'processnetwork', 'processexcel', 'probthat', 'problum', 'problm', 'problemi', 'problemfre', 'problembut', 'problemat', 'priya', 'priscilla', 'prior', 'printer', 'postpon', 'postal', 'posit', 'philosoph', 'pisc', 'pint', 'pimpleseven', 'pimpl', 'pillow', 'pile', 'piggi', 'pierr', 'piec', 'piah', 'physic', 'photoshop', 'phonebook', 'phew', 'pixel', 'phase', 'petrolr', 'pest', 'peski', 'perumbavoor', 'personmeet', 'person2di', 'persev', 'perpetu', 'perman', 'peripher', 'peril', 'perfum', 'piti', 'placement', 'posibl', 'poci', 'pose', 'porteg', 'portal', 'port', 'poortiyagi', 'pooki', 'pooja', 'poo', 'ponnungal', 'pokkiri', 'poker', 'pocket', 'pock', 'pocay', 'placeno', 'plural', 'plum', 'plsi', 'plough', 'pleassssssseeeee', 'pleasant', 'playi', 'playerwhi', 'platt', 'plate', 'planeti', 'planet', 'plaid', 'soonc', 'soonlot', 'soonxxx', 'urgoin', 'view', 'vidnot', 'victor', 'vic', 'vibrat', 'vibrant', 'venaam', 'velusami', 'velli', 'velacheri', 'vehicl', 'veggi', 'vasai', 'varma', 'vargu', 'varaya', 'valuemorn', 'vale', 'va', 'uworld', 'uv', 'uup', 'usp', 'uso', 'uslet', 'usget', 'useless', 'uscedu', 'urmomi', 'vijaykanth', 'vikkyi', 'vilikkam', 'wahay', 'watev', 'watchng', 'watchin', 'wasnt', 'washob', 'warwick', 'walsal', 'wallet', 'walkabout', 'waiti', 'waht', 'wahleykkumshar', 'waheeda', 'wahala', 'vill', 'wadebridgei', 'vtire', 'vs', 'vpist', 'volcano', 'voila', 'vldo', 'vivek', 'visitne', 'visa', 'virtual', 'virgil', 'vinobanagar', 'urin', 'urgh', 'sooo', 'urfeel', 'uin', 'uif', 'uhhhhrmm', 'ugo', 'ud', 'ucal', 'ubandu', 'typic', 'typelyk', 'txtjourney', 'twitter', 'twigg', 'twenti', 'twat', 'tvhe', 'turkey', 'tunji', 'tund', 'tui', 'tshirt', 'truro', 'truek', 'trubl', 'trouser', 'troubleshoot', 'triumph', 'trishul', 'trek', 'treasur', 'ujhhhhhhh', 'ultim', 'ultimatum', 'unknown', 'upyeh', 'upstair', 'upseti', 'upnot', 'up4', 'uothrwis', 'unusu', 'unsoldnow', 'unsoldmik', 'unrecogn', 'unnecessarili', 'unmit', 'unlik', 'univ', 'um', 'uniform', 'unfortun', 'unfold', 'unev', 'undrstndng', 'undrstnd', 'understood', 'underdtand', 'uncut', 'uncount', 'unconvinc', 'uncondit', 'un', 'watrdayno', 'watt', 'way2smscom', 'weapon', 'yen', 'yelow', 'yeesh', 'yday', 'yaxxx', 'yaxx', 'yalru', 'yalrigu', 'yah', 'xxxxxxxxxxxxxx', 'xxxxxxxx', 'xoxo', 'x2', 'wuldnt', 'wtc', 'wrote', 'wrnog', 'wrld', 'wrks', 'wrking', 'wrki', 'wrk', 'writh', 'wright', 'wrench', 'wound', 'woulda', 'woul', 'wotz', 'yesbut', 'yesgauti', 'yesi', 'yovill', 'âªt', 'âªm', '¹ã', 'zogtorius', 'zhong', 'zero', 'zaher', 'zac', 'yupz', 'yunni', 'yummmm', 'ystrdayic', 'yoyyooo', 'youã', 'yesmum', 'youwanna', 'youuuuu', 'youthat', 'yourjob', 'youphon', 'younger', 'youmi', 'youi', 'youdo', 'yorg', 'yifeng', 'yi', 'yetti', 'worthless', 'worst', 'worryc', 'wereth', 'wherear', 'whenevr', 'wheellock', 'wheel', 'wheat', 'whatsup', 'whassup', 'weã', 'wewa', 'wetherspoon', 'westshor', 'westonzoyland', 'western', 'werebor', 'wherr', 'werear', 'wenev', 'wendi', 'wellyou', 'wellda', 'weiyi', 'weirdo', 'weirdi', 'weirdest', 'weekday', 'wee', 'websit', 'webadr', 'wherevr', 'whilltak', 'worm', 'wld', 'workout', 'workand', 'workag', 'wordsevri', 'worc', 'woozl', 'woohoo', 'woo', 'wondar', 'womdarful', 'wocay', 'woah', 'wnevr', 'wlcome', 'whore', 'wknd', 'witot', 'witin', 'wishlist', 'winterston', 'willpow', 'wikipediacom', 'wihtuot', 'wifi', 'wicket', 'wick', 'wi', 'whr', 'treadmil', 'trauma', 'tranquil', 'syria', 'suganya', 'sudn', 'subtoitl', 'submit', 'stylist', 'stuffleav', 'stuff42moro', 'studyn', 'studio', 'studentfinanci', 'studdi', 'stuck', 'stubborn', 'stu', 'sts', 'struggl', 'stripe', 'strip', 'strict', 'strewn', 'stretch', 'stressful', 'stool', 'stoner', 'stone', 'stomp', 'stitch', 'stink', 'stillmayb', 'sugardad', 'suitem', 'sumf', 'swann', 'sympathet', 'syllabus', 'syd', 'swoop', 'swimsuit', 'swhrt', 'swell', 'sweatter', 'sweater', 'swear', 'sway', 'swatch', 'swashbuckl', 'swan', 'summon', 'swalpa', 'surya', 'surrend', 'surgic', 'suprem', 'supportprovid', 'supli', 'superb', 'suntec', 'sunscreen', 'sunroof', 'sunoco', 'sumthin', 'stil', 'stifl', 'sthis', 'spif', 'spontan', 'sponsor', 'spoilt', 'splwat', 'splle', 'split', 'splendid', 'splat', 'splash', 'spiritu', 'spiral', 'spinout', 'spin', 'specifi', 'sportsx', 'specialis', 'spatula', 'spark', 'soz', 'souveni', 'southern', 'soundã', 'soso', 'sorryi', 'sorrowsi', 'sopha', 'sooooo', 'soooo', 'sporad', 'spotti', 'steyn', 'stagwood', 'sterm', 'sterl', 'stereo', 'steed', 'steam', 'steak', 'state', 'stash', 'starti', 'starshin', 'starer', 'stare', 'stair', 'stage', 'sprint', 'staffsciencenusedusgphyhcmkteachingpc1323', 'stabl', 'stabil', 'srt', 'srsli', 'srs', 'sri', 'squeez', 'squeeeeez', 'squat', 'sq825', 'spys', 'spunout', 'symptom', 'syrup', 'tram', 'tackl', 'tok', 'tohar', 'todo', 'todayh', 'todaygood', 'todaydo', 'todaybut', 'tocallshal', 'tobe', 'tobacco', 'toaday', 'tmw', 'tmorrowpl', 'tlk', 'tke', 'titleso', 'timin', 'timi', 'timeyour', 'timeyou', 'timehop', 'timedhoni', 'tim', 'tiim', 'tigress', 'tiepo', 'tiempo', 'thx', 'thuglyf', 'toke', 'token', 'tol', 'tootsi', 'trainner', 'traffic', 'tradit', 'tp', 'toyota', 'towndontmatt', 'toughest', 'tortur', 'torrent', 'tor', 'toplay', 'topicsorri', 'topic', 'toothpast', 'toldsh', 'toot', 'tooo', 'tookplac', 'toniteth', 'tonitebusi', 'tongu', 'tonght', 'tomorw', 'tomorrowtoday', 'tomorrowcal', 'tomorro', 'toler', 'toledo', 'thrown', 'thout', 'thousand', 'tarpon', 'temal', 'telugutht', 'telugu', 'teju', 'technolog', 'teacoffe', 'te', 'taxt', 'taxless', 'tax', 'taught', 'tau', 'tata', 'tantrum', 'tendenc', 'tamilnaduthen', 'tallent', 'tallahasse', 'tall', 'talkin', 'taka', 'taj', 'tait', 'tai', 'tadaaaaa', 'tactless', 'tact', 'taco', 'temper', 'tens', 'thoughtsi', 'thekingshead', 'thou', 'thot', 'thnx', 'thirunelvali', 'thinkthi', 'thin', 'thia', 'theyr', 'thet', 'theseday', 'theplac', 'theoret', 'thenwil', 'theater', 'terminatedw', 'thati', 'thatdont', 'thasa', 'thanxxx', 'thanx4', 'thanku', 'thangamit', 'textin', 'textbook', 'texd', 'tex', 'tesco', 'terri', 'ny', 'jacuzzi', 'nver', 'harlem', 'gucci', 'guai', 'gua', 'grumpi', 'grumbl', 'growrandom', 'grownup', 'grow', 'groov', 'grinul', 'grief', 'greatby', 'greatbhaji', 'graze', 'gravi', 'grate', 'grandfath', 'gran', 'grab', 'gr8fun', 'gower', 'gowait', 'gover', 'gotani', 'goss', 'gopalettan', 'goodtim', 'goodo', 'goodeven', 'gudnyt', 'guessin', 'guidanc', 'hall', 'hari', 'hardest', 'harder', 'happiest', 'happier', 'hanumanji', 'hannaford', 'hank', 'hangin', 'hanger', 'hamster', 'hamper', 'halla', 'haiyoh', 'guild', 'hairdress', 'haircut', 'hail', 'hadya', 'habbahw', 'gyno', 'gymnast', 'gwr', 'gving', 'gut', 'guoyang', 'gumbi', 'guitar', 'gonnamissu', 'golden', 'gold', 'fujitsu', 'garment', 'ganesh', 'galno', 'galcan', 'gailxx', 'gail', 'ga', 'fwiw', 'fuuuuck', 'fundament', 'function', 'fumbl', 'ful', 'fuell', 'gaug', 'fudg', 'fuckin', 'frwd', 'frosti', 'fro', 'frndz', 'frndsship', 'frndshp', 'friendsar', 'friendofafriend', 'fridg', 'fridayhop', 'fret', 'gate', 'gaze', 'gokila', 'givit', 'goin2b', 'goigng', 'goggl', 'godyou', 'godtaken', 'gobi', 'goa', 'go2sri', 'gnun', 'gloucesterroad', 'glorious', 'glass', 'glasgow', 'given', 'gbp450week', 'gimmi', 'giggl', 'gibe', 'ghodbandar', 'getsleep', 'geti', 'gete', 'get4an18th', 'ger', 'geoenvironment', 'genus', 'gentleman', 'gek1510', 'harish', 'hasbro', 'inev', 'hasnt', 'ibor', 'ibm', 'ia', 'hypotheticalhuagauahahuagahyuhagga', 'hypertens', 'hype', 'hustl', 'hussey', 'hurrican', 'hunt', 'hunonbus', 'hungov', 'hundredh', 'human', 'huim', 'hugh', 'hudgi', 'huai', 'hu', 'html', 'hp', 'howdi', 'howda', 'housework', 'hourish', 'hotmailcom', 'hostil', 'hostbas', 'hos', 'ibuprofen', 'icic', 'icki', 'imf', 'independ', 'ind', 'increas', 'inconveni', 'inconsider', 'incomm', 'imprtant', 'impost', 'impos', 'implic', 'imp', 'immunis', 'imin', 'imat', 'icon', 'ima', 'ilol', 'ileav', 'iknow', 'ijust', 'ifwhenhow', 'ifink', 'ie', 'idu', 'idp', 'identif', 'nutter', 'idc', 'hors', 'hopeu', 'hoop', 'heehe', 'hhahhaahahah', 'heã', 'herwil', 'hersh', 'heron', 'hermi', 'herethank', 'hep', 'henc', 'hen', 'heltiniiyo', 'hellohow', 'hellogorg', 'heavili', 'hilariousalso', 'heaven', 'hearin', 'heap', 'healthi', 'healer', 'headstart', 'hdd', 'hcl', 'haunt', 'haul', 'haughaighgtujhyguj', 'hat', 'hassl', 'hii', 'hillsborough', 'hooch', 'hog', 'hoo', 'hont', 'honi', 'honeymoon', 'honesti', 'homewot', 'homelov', 'hollalat', 'holi', 'hole', 'holbi', 'hogolo', 'hogidhechinnu', 'hmph', 'himso', 'hmmmbut', 'hme', 'hm', 'hlday', 'hiwhat', 'hitteranyway', 'hitman', 'hitler', 'histori', 'hisher', 'hire', 'hiphop', 'hint', 'fresher', 'fresh', 'frequent', 'french', 'edha', 'edg', 'ecstasi', 'eckankar', 'ebay', 'easili', 'easiest', 'earliest', 'earlierw', 'dwn', 'dvg', 'duvet', 'dust', 'dusk', 'durban', 'duo', 'dungere', 'dump', 'duffer', 'dudett', 'duck', 'dub', 'dual', 'dryer', 'drunkard', 'drmstake', 'drms', 'drizzl', 'drinkpa', 'edit', 'educ', 'edukkukaye', 'ello', 'enna', 'enketa', 'enjoyin', 'engin', 'endow', 'endless', 'enc', 'employe', 'employ', 'emot', 'emili', 'emigr', 'embassi', 'eleven', 'eerulli', 'eleph', 'eldest', 'elaya', 'elama', 'elain', 'ela', 'el', 'eightish', 'eighth', 'ego', 'eggpotato', 'egbon', 'effici', 'dresser', 'dreamz', 'dreamlov', 'diesel', 'disast', 'disappoint', 'disappear', 'disagre', 'dirt', 'director', 'dip', 'dino', 'dinnermsg', 'dimens', 'digniti', 'digi', 'differb', 'didntgiv', 'disc', 'diddi', 'dict', 'dice', 'diaper', 'dialogu', 'dhort', 'dhoni', 'dhanush', 'dha', 'deyi', 'devic', 'determin', 'detailsi', 'disastr', 'disconnect', 'dread', 'doinat', 'dramat', 'drama', 'downstem', 'doug', 'doublefaggot', 'dormitori', 'doom', 'donyt', 'dont4get2text', 'donno', 'donew', 'domain', 'doll', 'dogwood', 'diseas', 'dogg', 'doesnã', 'doesnâ', 'dodgey', 'dodda', 'dled', 'dizzamn', 'diwali', 'divert', 'ditto', 'dismissi', 'dismay', 'disk', 'ennal', 'entey', 'entrepreneur', 'finalis', 'flake', 'fizz', 'fixd', 'fite', 'firsg', 'firmwar', 'firesar', 'fireplac', 'firefox', 'finn', 'finishd', 'fineinshah', 'financi', 'fifti', 'flavour', 'fifth', 'fiendmak', 'fieldof', 'fidalf', 'ffffuuuuuuu', 'ffffffffff', 'feng', 'fellow', 'feed', 'fedex', 'fed', 'fate', 'fastpl', 'flatter', 'flim', 'fart', 'formsdon', 'freeli', 'freek', 'fredericksburg', 'freaki', 'franxx', 'franki', 'fps', 'fox', 'fowler', 'foward', 'fourth', 'fortun', 'forth', 'formal', 'float', 'forgt', 'foreg', 'footbl', 'followin', 'fold', 'fne', 'flyi', 'flute', 'flurri', 'flung', 'fluid', 'florida', 'flood', 'fassyol', 'famous', 'entrop', 'essay', 'evict', 'evey', 'everytim', 'everythin', 'everyso', 'everyboy', 'every1', 'eventu', 'event', 'evapor', 'evalu', 'ettan', 'establish', 'eshxxxxxxxxxxx', 'evon', 'escal', 'esaplanad', 'eryth', 'erupt', 'eruku', 'ertini', 'err', 'ericson', 'equal', 'eppolum', 'epi', 'envi', 'enufcredeit', 'evo', 'evr', 'familiar', 'ey', 'famamus', 'fallen', 'falconerf', 'fakey', 'fakemi', 'fake', 'fair', 'faint', 'failur', 'faglord', 'factori', 'facil', 'faber', 'exwif', 'evrey', 'extract', 'extermin', 'ext', 'expiredso', 'expert', 'exorc', 'exmpel', 'exist', 'exhibit', 'exchang', 'ew', 'evry1', 'evri', 'indianpl', 'idconvey', 'infact', 'miller', 'misss', 'missionari', 'missi', 'misscal', 'misplac', 'misfit', 'mise', 'mirror', 'minus', 'mint', 'minstand', 'minor', 'mindsetbeliev', 'milkdayno', 'meok', 'mileag', 'miiiiiiissssssssss', 'middl', 'mid', 'michael', 'mi', 'mfl', 'method', 'messagepandi', 'meso', 'mesh', 'meremov', 'merememberin', 'misstak', 'missunderstd', 'mist', 'mistakeu', 'motherinlaw', 'motherfuck', 'moseley', 'morrow', 'mornin', 'monthnot', 'monster', 'monl8rsx', 'monkeyaround', 'monkeespeopl', 'moneyi', 'mone', 'mondaynxt', 'mokka', 'modl', 'modelsoni', 'mnth', 'mns', 'mmsto', 'mmmmmm', 'mmmmm', 'ml', 'mj', 'miwa', 'mittelschmertz', 'mitsak', 'misundrstud', 'mere', 'mentor', 'moviewat', 'machan', 'maki', 'maili', 'mahfuuz', 'influx', 'mag', 'madthen', 'madstini', 'madok', 'madodu', 'macleran', 'mack', 'machin', 'machi', 'macha', 'mene', 'm100', 'lyric', 'lyk', 'luvd', 'luton', 'lunsford', 'lunchtim', 'lul', 'luk', 'luckili', 'luck2', 'lubli', 'lst', 'malarki', 'mandan', 'mandara', 'maneg', 'membershiptak', 'melnit', 'meiv', 'mee', 'mecaus', 'meatbal', 'meat', 'meaning', 'mcr', 'mc', 'mattermsg', 'matric', 'matra', 'mathew', 'mathemat', 'masteriast', 'master', 'massiv', 'marrgeremembr', 'mari', 'maretar', 'marandratha', 'maraikara', 'mapquest', 'manual', 'manki', 'mango', 'mous', 'ms', 'lovin', 'nimbomson', 'noic', 'nohe', 'nofew', 'nobut', 'nob', 'nmde', 'njan', 'nitz', 'nitw', 'nite2', 'nipost', 'nino', 'ninish', 'nike', 'netno', 'nigro', 'nightnobodi', 'nightnight', 'nighter', 'nigh', 'nig', 'nickey', 'nic', 'nhs', 'newscast', 'newsbi', 'newquaysend', 'newport', 'nois', 'noisi', 'noit', 'noiã', 'nusstu', 'nurseri', 'nurs', 'numberrespect', 'numberpl', 'nuerologist', 'nudist', 'ntswt', 'nri', 'nowonion', 'nowi', 'nowaday', 'novelti', 'nottingham', 'nottel', 'notixiqu', 'notebook', 'nosi', 'nose', 'nos', 'nordstrom', 'nora', 'nooooooo', 'nonetheless', 'noncomitt', 'non', 'nojst', 'nevr', 'netflix', 'msgsometext', 'mumha', 'naal', 'n8', 'mytonecomenjoy', 'mysteri', 'myspac', 'mys', 'mypar', 'mutat', 'mutai', 'musta', 'mush', 'mus', 'mundh', 'mumbai', 'neshanthtel', 'multipli', 'multimedia', 'multi', 'muht', 'muhommad', 'mufti', 'mudyadhu', 'muchxxlov', 'muchimped', 'mtnl', 'mth', 'mssuman', 'msn', 'nacho', 'nag', 'nail', 'nalla', 'nelson', 'neighbor', 'neglet', 'neglect', 'neft', 'neekunna', 'needl', 'neededsalari', 'needa', 'neck', 'necess', 'nearer', 'nearbi', 'nd', 'nbme', 'nb', 'navig', 'nav', 'nauseous', 'nattil', 'nationwid', 'nasti', 'narcot', 'nang', 'nammanna', 'namemi', 'nalli', 'lovli', 'maggi', 'loverakhesh', 'kip', 'iwasmarin', 'kkwhere', 'jabo', 'jack', 'kkthis', 'jackson', 'kki', 'jade', 'kkani', 'kittum', 'kitti', 'jaklin', 'lambda', 'kintu', 'kickbox', 'jam', 'khelat', 'kgood', 'jame', 'janarig', 'kgive', 'kfc', 'keypad', 'jane', 'knowh', 'known', 'knowwait', 'kochi', 'lager', 'itmay', 'itna', 'itor', 'itried2tel', 'lac', 'labor', 'l8tr', 'l8', 'kz', 'kvb', 'ku', 'ktv', 'ksri', 'itsnot', 'kote', 'korean', 'itz', 'kor', 'konw', 'ivatt', 'kodthini', 'kodstini', 'janx', 'jap', 'keri', 'juswok', 'jurong', 'junna', 'jungl', 'jumper', 'jenni', 'jump', 'juliana', 'judgement', 'juan', 'jeremiah', 'jerk', 'jetton', 'jsut', 'js', 'jewelri', 'jez', 'jontin', 'joker', 'ji', 'joinedso', 'joinedhop', 'jod', 'jjc', 'justbeen', 'kaiez', 'jas', 'kaila', 'kent', 'keluviri', 'keen', 'jaya', 'katexxx', 'karo', 'karnan', 'kare', 'jaykwon', 'jaz', 'kappa', 'kanowhr', 'kanoanyway', 'kanji', 'je', 'kane', 'jeevithathil', 'kalstiyathen', 'kalisidar', 'jenn', 'kalainar', 'kalaachutaarama', 'kaitlyn', 'lakh', 'lage', 'lib', 'leonardo', 'intend', 'liver', 'litr', 'lit', 'interfu', 'listened2th', 'liquor', 'intern', 'lipo', 'linux', 'lingo', 'lindsay', 'interviw', 'intha', 'intrepid', 'limp', 'likingb', 'likeyour', 'lighter', 'intrud', 'invent', 'lifeyou', 'lifeand', 'leu', 'investig', 'llspeak', 'inst', 'lobbi', 'inlud', 'lovejen', 'lou', 'lotz', 'lotto', 'ing', 'lotta', 'lotsli', 'loti', 'initi', 'loser', 'lool', 'inmind', 'inspect', 'loo', 'inner', 'innu', 'lonlin', 'loneli', 'londn', 'lolnic', 'loko', 'logoff', 'inshah', 'locaxx', 'lesser', 'jide', 'iphon', 'itjust', 'iraq', 'leannewhat', 'ireneer', 'leafdayno', 'iriv', 'laxinorf', 'itlet', 'lauri', 'latelyxxx', 'lamp', 'irulina', 'itboth', 'isaiahd', 'lanka', 'islov', 'lasagna', 'lara', 'lap', 'isnã', 'lanr', 'lekdog', 'leo', 'invoic', 'least5tim', 'ipaditan', 'involv', 'leftov', 'lambu', 'length', 'itmail', 'lennon', 'forward', 'tell', 'rose', 'kept', 'meal', 'result', 'hard', 'anyon', 'pm', 'fall', 'red', 'men', 'pub', 'hrs', 'ticket', 'laugh', 'ben', 'ad', 'giv', 'may', 'year', 'book', 'search', 'rock', 'lover', 'wiv', 'wow', 'tonight', 'guess', 'xx', 'app', 'bought', 'pin', 'market', 'becom', 'tel', 'month', 'want', 'cute', 'suit', 'respons', 'flower', 'sound', 'simpl', 'station', 'purchas', 'borin', 'dot', 'learn', '8pm', 'till', 'babe', 'forget', 'fact', 'pete', 'ice', 'turn', 'load', 'met', 'afraid', 'dark', 'femal', 'woman', 'complet', 'guy', 'noth', 'pg', 'strong', 'oz', 'transfer', 'serv', 'close', 'wo', 'sed', 'midnight', 'bird', 'key', 'breath', 'sinc', 'drink', 'bore', 'yahoo', 'fail', 'respond', 'issu', 'nake', 'coupl', 'menu', 'kinda', 'energi', 'paid', 'mistak', 'wed', 'support', 'promis', 'found', 'em', 'glad', 'nyt', 'sign', 'ladi', 'everyon', 'wan', 'hear', 'ever', 'look', 'could', 'wait', 'lead', 'bitch', 'januari', 'town', 'readi', 'mr', 'havin', 'door', 'child', 'eye', 'darl']\n"
     ]
    }
   ],
   "source": [
    "print(list(chi_values.index))"
   ]
  },
  {
   "cell_type": "code",
   "execution_count": 80,
   "metadata": {},
   "outputs": [
    {
     "data": {
      "text/plain": [
       "array([0.0015654 , 0.01430588, 0.02534732, ..., 0.01430588, 0.00815097,\n",
       "       0.31731051])"
      ]
     },
     "execution_count": 80,
     "metadata": {},
     "output_type": "execute_result"
    }
   ],
   "source": [
    "p_values = chi_scores[1]\n",
    "p_values"
   ]
  },
  {
   "cell_type": "code",
   "execution_count": 82,
   "metadata": {},
   "outputs": [],
   "source": [
    "p_values = pd.Series(p_values, index = bow.get_feature_names())"
   ]
  },
  {
   "cell_type": "code",
   "execution_count": 84,
   "metadata": {},
   "outputs": [
    {
     "data": {
      "text/plain": [
       "008704050406    1.565402e-03\n",
       "0089            1.430588e-02\n",
       "0121            2.534732e-02\n",
       "01223585334     5.320055e-04\n",
       "02              1.565402e-03\n",
       "                    ...     \n",
       "zebra           4.677735e-03\n",
       "zed             4.238055e-10\n",
       "zouk            8.150972e-03\n",
       "âªv             1.430588e-02\n",
       "â¼120           8.150972e-03\n",
       "Length: 2767, dtype: float64"
      ]
     },
     "execution_count": 84,
     "metadata": {},
     "output_type": "execute_result"
    }
   ],
   "source": [
    "p_values[p_values < 0.05]"
   ]
  },
  {
   "cell_type": "code",
   "execution_count": 99,
   "metadata": {},
   "outputs": [
    {
     "data": {
      "text/plain": [
       "array([-14.92315824, -14.92315824, -14.92315824, ..., -14.92315824,\n",
       "       -14.92315824, -10.30803772])"
      ]
     },
     "execution_count": 99,
     "metadata": {},
     "output_type": "execute_result"
    }
   ],
   "source": [
    "# Feature selection using the model\n",
    "NB.feature_log_prob_[0] # This gives array of prob of words to classify result as 0"
   ]
  },
  {
   "cell_type": "code",
   "execution_count": 100,
   "metadata": {},
   "outputs": [
    {
     "data": {
      "text/plain": [
       "array([ -8.75283438,  -9.26299423,  -9.44498306, ...,  -9.26299423,\n",
       "        -9.10908128, -15.66158916])"
      ]
     },
     "execution_count": 100,
     "metadata": {},
     "output_type": "execute_result"
    }
   ],
   "source": [
    "NB.feature_log_prob_[1] # This gives array of prob of words to classify result as 1"
   ]
  },
  {
   "cell_type": "code",
   "execution_count": 105,
   "metadata": {},
   "outputs": [],
   "source": [
    "top_20_pos_words = pd.Series(NB.feature_log_prob_[1],index=bow.get_feature_names()).sort_values(ascending=False)[:20]"
   ]
  },
  {
   "cell_type": "code",
   "execution_count": 106,
   "metadata": {},
   "outputs": [
    {
     "data": {
      "text/plain": [
       "call     -3.486486\n",
       "free     -3.953089\n",
       "txt      -4.332575\n",
       "ur       -4.366807\n",
       "text     -4.379323\n",
       "mobil    -4.413919\n",
       "claim    -4.615456\n",
       "repli    -4.679675\n",
       "stop     -4.748302\n",
       "get      -4.874313\n",
       "prize    -4.949374\n",
       "week     -4.958322\n",
       "tone     -5.020914\n",
       "servic   -5.108358\n",
       "onli     -5.118856\n",
       "cash     -5.129466\n",
       "new      -5.159238\n",
       "nokia    -5.159238\n",
       "award    -5.221579\n",
       "urgent   -5.230389\n",
       "dtype: float64"
      ]
     },
     "execution_count": 106,
     "metadata": {},
     "output_type": "execute_result"
    }
   ],
   "source": [
    "top_20_pos_words"
   ]
  },
  {
   "cell_type": "code",
   "execution_count": 107,
   "metadata": {},
   "outputs": [],
   "source": [
    "top_20_neg_words = pd.Series(NB.feature_log_prob_[0],index=bow.get_feature_names()).sort_values(ascending=False)[:20]"
   ]
  },
  {
   "cell_type": "code",
   "execution_count": 111,
   "metadata": {},
   "outputs": [
    {
     "data": {
      "text/plain": [
       "Index(['go', 'nt', 'get', 'gt', 'lt', 'come', 'call', 'ok', 'got', 'know',\n",
       "       'like', 'ur', 'love', 'day', 'good', 'time', 'want', 'one', 'need',\n",
       "       'home'],\n",
       "      dtype='object')"
      ]
     },
     "execution_count": 111,
     "metadata": {},
     "output_type": "execute_result"
    }
   ],
   "source": [
    "top_20_neg_words.index"
   ]
  },
  {
   "cell_type": "code",
   "execution_count": null,
   "metadata": {},
   "outputs": [],
   "source": []
  }
 ],
 "metadata": {
  "kernelspec": {
   "display_name": "Python 3",
   "language": "python",
   "name": "python3"
  },
  "language_info": {
   "codemirror_mode": {
    "name": "ipython",
    "version": 3
   },
   "file_extension": ".py",
   "mimetype": "text/x-python",
   "name": "python",
   "nbconvert_exporter": "python",
   "pygments_lexer": "ipython3",
   "version": "3.6.8"
  }
 },
 "nbformat": 4,
 "nbformat_minor": 2
}
